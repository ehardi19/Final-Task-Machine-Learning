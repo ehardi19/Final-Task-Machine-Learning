{
  "nbformat": 4,
  "nbformat_minor": 0,
  "metadata": {
    "colab": {
      "name": "Tugas_1301174099_1301174223.ipynb",
      "provenance": [],
      "collapsed_sections": [],
      "include_colab_link": true
    },
    "kernelspec": {
      "name": "python3",
      "display_name": "Python 3"
    }
  },
  "cells": [
    {
      "cell_type": "markdown",
      "metadata": {
        "id": "view-in-github",
        "colab_type": "text"
      },
      "source": [
        "<a href=\"https://colab.research.google.com/github/ehardi19/Final-Task-Machine-Learning/blob/master/Tugas_1301174099_1301174223.ipynb\" target=\"_parent\"><img src=\"https://colab.research.google.com/assets/colab-badge.svg\" alt=\"Open In Colab\"/></a>"
      ]
    },
    {
      "cell_type": "markdown",
      "metadata": {
        "id": "OojCCfG5vvdp",
        "colab_type": "text"
      },
      "source": [
        "# **Tugas Besar Pembelajaran Mesin (CSH3L3)**\n",
        "Kelas IFIK-40-01 Semester Ganjil Tahun Ajaran 2019/2020\n",
        "\n"
      ]
    },
    {
      "cell_type": "markdown",
      "metadata": {
        "id": "TptxvAZtHzFM",
        "colab_type": "text"
      },
      "source": [
        "**Anggota** \n",
        "\n",
        "\n",
        "1.   Eko Hardiyanto (1301174099)\n",
        "2.   Ganesha Danu Enastika (1301174223)\n",
        "\n"
      ]
    },
    {
      "cell_type": "code",
      "metadata": {
        "id": "pQJ4Da7GSgCF",
        "colab_type": "code",
        "colab": {}
      },
      "source": [
        "import pandas as pd\n",
        "import numpy as np\n",
        "import matplotlib.pyplot as plt\n",
        "import seaborn as sns\n",
        "from sklearn.preprocessing import StandardScaler\n",
        "%matplotlib inline"
      ],
      "execution_count": 0,
      "outputs": []
    },
    {
      "cell_type": "markdown",
      "metadata": {
        "id": "g9rB0pVO-b0H",
        "colab_type": "text"
      },
      "source": [
        "## **Data Preprocessing**"
      ]
    },
    {
      "cell_type": "code",
      "metadata": {
        "colab_type": "code",
        "id": "PyudGdhW4YM3",
        "outputId": "3381a25c-b349-45a2-d635-0db4bb93fcaa",
        "colab": {
          "base_uri": "https://localhost:8080/",
          "height": 202
        }
      },
      "source": [
        "!wget -O kc_house_data.csv https://raw.githubusercontent.com/Jonasyao/Machine-Learning-Specialization-University-of-Washington-/master/Regression/Assignment_four/kc_house_data.csv\n"
      ],
      "execution_count": 2,
      "outputs": [
        {
          "output_type": "stream",
          "text": [
            "--2019-12-07 13:53:36--  https://raw.githubusercontent.com/Jonasyao/Machine-Learning-Specialization-University-of-Washington-/master/Regression/Assignment_four/kc_house_data.csv\n",
            "Resolving raw.githubusercontent.com (raw.githubusercontent.com)... 151.101.0.133, 151.101.64.133, 151.101.128.133, ...\n",
            "Connecting to raw.githubusercontent.com (raw.githubusercontent.com)|151.101.0.133|:443... connected.\n",
            "HTTP request sent, awaiting response... 200 OK\n",
            "Length: 368640 (360K) [text/plain]\n",
            "Saving to: ‘kc_house_data.csv’\n",
            "\n",
            "\rkc_house_data.csv     0%[                    ]       0  --.-KB/s               \rkc_house_data.csv   100%[===================>] 360.00K  --.-KB/s    in 0.05s   \n",
            "\n",
            "2019-12-07 13:53:36 (6.75 MB/s) - ‘kc_house_data.csv’ saved [368640/368640]\n",
            "\n"
          ],
          "name": "stdout"
        }
      ]
    },
    {
      "cell_type": "markdown",
      "metadata": {
        "id": "qTlXcYZA6U_x",
        "colab_type": "text"
      },
      "source": [
        "Baca dataset dan lihat 5 data index teratas."
      ]
    },
    {
      "cell_type": "code",
      "metadata": {
        "id": "5HThjotETI-g",
        "colab_type": "code",
        "outputId": "6b5d2078-e31c-4745-c903-927e9a3bfaff",
        "colab": {
          "base_uri": "https://localhost:8080/",
          "height": 422
        }
      },
      "source": [
        "df = pd.read_csv('kc_house_data.csv')\n",
        "df"
      ],
      "execution_count": 3,
      "outputs": [
        {
          "output_type": "execute_result",
          "data": {
            "text/html": [
              "<div>\n",
              "<style scoped>\n",
              "    .dataframe tbody tr th:only-of-type {\n",
              "        vertical-align: middle;\n",
              "    }\n",
              "\n",
              "    .dataframe tbody tr th {\n",
              "        vertical-align: top;\n",
              "    }\n",
              "\n",
              "    .dataframe thead th {\n",
              "        text-align: right;\n",
              "    }\n",
              "</style>\n",
              "<table border=\"1\" class=\"dataframe\">\n",
              "  <thead>\n",
              "    <tr style=\"text-align: right;\">\n",
              "      <th></th>\n",
              "      <th>id</th>\n",
              "      <th>date</th>\n",
              "      <th>price</th>\n",
              "      <th>bedrooms</th>\n",
              "      <th>bathrooms</th>\n",
              "      <th>sqft_living</th>\n",
              "      <th>sqft_lot</th>\n",
              "      <th>floors</th>\n",
              "      <th>waterfront</th>\n",
              "      <th>view</th>\n",
              "      <th>condition</th>\n",
              "      <th>grade</th>\n",
              "      <th>sqft_above</th>\n",
              "      <th>sqft_basement</th>\n",
              "      <th>yr_built</th>\n",
              "      <th>yr_renovated</th>\n",
              "      <th>zipcode</th>\n",
              "      <th>lat</th>\n",
              "      <th>long</th>\n",
              "      <th>sqft_living15</th>\n",
              "      <th>sqft_lot15</th>\n",
              "    </tr>\n",
              "  </thead>\n",
              "  <tbody>\n",
              "    <tr>\n",
              "      <th>0</th>\n",
              "      <td>7129300520</td>\n",
              "      <td>20141013T000000</td>\n",
              "      <td>221900.0</td>\n",
              "      <td>3</td>\n",
              "      <td>1.00</td>\n",
              "      <td>1180</td>\n",
              "      <td>5650</td>\n",
              "      <td>1.0</td>\n",
              "      <td>0</td>\n",
              "      <td>0</td>\n",
              "      <td>3</td>\n",
              "      <td>7</td>\n",
              "      <td>1180</td>\n",
              "      <td>0</td>\n",
              "      <td>1955</td>\n",
              "      <td>0</td>\n",
              "      <td>98178</td>\n",
              "      <td>47.5112</td>\n",
              "      <td>-122.257</td>\n",
              "      <td>1340.0</td>\n",
              "      <td>5650.0</td>\n",
              "    </tr>\n",
              "    <tr>\n",
              "      <th>1</th>\n",
              "      <td>6414100192</td>\n",
              "      <td>20141209T000000</td>\n",
              "      <td>538000.0</td>\n",
              "      <td>3</td>\n",
              "      <td>2.25</td>\n",
              "      <td>2570</td>\n",
              "      <td>7242</td>\n",
              "      <td>2.0</td>\n",
              "      <td>0</td>\n",
              "      <td>0</td>\n",
              "      <td>3</td>\n",
              "      <td>7</td>\n",
              "      <td>2170</td>\n",
              "      <td>400</td>\n",
              "      <td>1951</td>\n",
              "      <td>1991</td>\n",
              "      <td>98125</td>\n",
              "      <td>47.7210</td>\n",
              "      <td>-122.319</td>\n",
              "      <td>1690.0</td>\n",
              "      <td>7639.0</td>\n",
              "    </tr>\n",
              "    <tr>\n",
              "      <th>2</th>\n",
              "      <td>5631500400</td>\n",
              "      <td>20150225T000000</td>\n",
              "      <td>180000.0</td>\n",
              "      <td>2</td>\n",
              "      <td>1.00</td>\n",
              "      <td>770</td>\n",
              "      <td>10000</td>\n",
              "      <td>1.0</td>\n",
              "      <td>0</td>\n",
              "      <td>0</td>\n",
              "      <td>3</td>\n",
              "      <td>6</td>\n",
              "      <td>770</td>\n",
              "      <td>0</td>\n",
              "      <td>1933</td>\n",
              "      <td>0</td>\n",
              "      <td>98028</td>\n",
              "      <td>47.7379</td>\n",
              "      <td>-122.233</td>\n",
              "      <td>2720.0</td>\n",
              "      <td>8062.0</td>\n",
              "    </tr>\n",
              "    <tr>\n",
              "      <th>3</th>\n",
              "      <td>2487200875</td>\n",
              "      <td>20141209T000000</td>\n",
              "      <td>604000.0</td>\n",
              "      <td>4</td>\n",
              "      <td>3.00</td>\n",
              "      <td>1960</td>\n",
              "      <td>5000</td>\n",
              "      <td>1.0</td>\n",
              "      <td>0</td>\n",
              "      <td>0</td>\n",
              "      <td>5</td>\n",
              "      <td>7</td>\n",
              "      <td>1050</td>\n",
              "      <td>910</td>\n",
              "      <td>1965</td>\n",
              "      <td>0</td>\n",
              "      <td>98136</td>\n",
              "      <td>47.5208</td>\n",
              "      <td>-122.393</td>\n",
              "      <td>1360.0</td>\n",
              "      <td>5000.0</td>\n",
              "    </tr>\n",
              "    <tr>\n",
              "      <th>4</th>\n",
              "      <td>1954400510</td>\n",
              "      <td>20150218T000000</td>\n",
              "      <td>510000.0</td>\n",
              "      <td>3</td>\n",
              "      <td>2.00</td>\n",
              "      <td>1680</td>\n",
              "      <td>8080</td>\n",
              "      <td>1.0</td>\n",
              "      <td>0</td>\n",
              "      <td>0</td>\n",
              "      <td>3</td>\n",
              "      <td>8</td>\n",
              "      <td>1680</td>\n",
              "      <td>0</td>\n",
              "      <td>1987</td>\n",
              "      <td>0</td>\n",
              "      <td>98074</td>\n",
              "      <td>47.6168</td>\n",
              "      <td>-122.045</td>\n",
              "      <td>1800.0</td>\n",
              "      <td>7503.0</td>\n",
              "    </tr>\n",
              "    <tr>\n",
              "      <th>...</th>\n",
              "      <td>...</td>\n",
              "      <td>...</td>\n",
              "      <td>...</td>\n",
              "      <td>...</td>\n",
              "      <td>...</td>\n",
              "      <td>...</td>\n",
              "      <td>...</td>\n",
              "      <td>...</td>\n",
              "      <td>...</td>\n",
              "      <td>...</td>\n",
              "      <td>...</td>\n",
              "      <td>...</td>\n",
              "      <td>...</td>\n",
              "      <td>...</td>\n",
              "      <td>...</td>\n",
              "      <td>...</td>\n",
              "      <td>...</td>\n",
              "      <td>...</td>\n",
              "      <td>...</td>\n",
              "      <td>...</td>\n",
              "      <td>...</td>\n",
              "    </tr>\n",
              "    <tr>\n",
              "      <th>3160</th>\n",
              "      <td>2759800110</td>\n",
              "      <td>20141031T000000</td>\n",
              "      <td>485000.0</td>\n",
              "      <td>3</td>\n",
              "      <td>2.50</td>\n",
              "      <td>1840</td>\n",
              "      <td>8250</td>\n",
              "      <td>1.0</td>\n",
              "      <td>0</td>\n",
              "      <td>1</td>\n",
              "      <td>3</td>\n",
              "      <td>8</td>\n",
              "      <td>1340</td>\n",
              "      <td>500</td>\n",
              "      <td>1958</td>\n",
              "      <td>0</td>\n",
              "      <td>98177</td>\n",
              "      <td>47.7767</td>\n",
              "      <td>-122.378</td>\n",
              "      <td>1970.0</td>\n",
              "      <td>7920.0</td>\n",
              "    </tr>\n",
              "    <tr>\n",
              "      <th>3161</th>\n",
              "      <td>579000096</td>\n",
              "      <td>20141010T000000</td>\n",
              "      <td>780000.0</td>\n",
              "      <td>3</td>\n",
              "      <td>1.50</td>\n",
              "      <td>1620</td>\n",
              "      <td>7500</td>\n",
              "      <td>1.0</td>\n",
              "      <td>0</td>\n",
              "      <td>2</td>\n",
              "      <td>4</td>\n",
              "      <td>8</td>\n",
              "      <td>1620</td>\n",
              "      <td>0</td>\n",
              "      <td>1949</td>\n",
              "      <td>0</td>\n",
              "      <td>98117</td>\n",
              "      <td>47.7014</td>\n",
              "      <td>-122.381</td>\n",
              "      <td>2440.0</td>\n",
              "      <td>7800.0</td>\n",
              "    </tr>\n",
              "    <tr>\n",
              "      <th>3162</th>\n",
              "      <td>9169600096</td>\n",
              "      <td>20140801T000000</td>\n",
              "      <td>720000.0</td>\n",
              "      <td>2</td>\n",
              "      <td>1.50</td>\n",
              "      <td>1840</td>\n",
              "      <td>9000</td>\n",
              "      <td>1.0</td>\n",
              "      <td>0</td>\n",
              "      <td>2</td>\n",
              "      <td>3</td>\n",
              "      <td>8</td>\n",
              "      <td>1340</td>\n",
              "      <td>500</td>\n",
              "      <td>1957</td>\n",
              "      <td>0</td>\n",
              "      <td>98136</td>\n",
              "      <td>47.5281</td>\n",
              "      <td>-122.388</td>\n",
              "      <td>1880.0</td>\n",
              "      <td>7560.0</td>\n",
              "    </tr>\n",
              "    <tr>\n",
              "      <th>3163</th>\n",
              "      <td>1226059112</td>\n",
              "      <td>20150220T000000</td>\n",
              "      <td>415000.0</td>\n",
              "      <td>3</td>\n",
              "      <td>1.00</td>\n",
              "      <td>1360</td>\n",
              "      <td>73616</td>\n",
              "      <td>1.0</td>\n",
              "      <td>0</td>\n",
              "      <td>0</td>\n",
              "      <td>3</td>\n",
              "      <td>7</td>\n",
              "      <td>1360</td>\n",
              "      <td>0</td>\n",
              "      <td>1971</td>\n",
              "      <td>0</td>\n",
              "      <td>98072</td>\n",
              "      <td>47.7528</td>\n",
              "      <td>-122.119</td>\n",
              "      <td>2040.0</td>\n",
              "      <td>50965.0</td>\n",
              "    </tr>\n",
              "    <tr>\n",
              "      <th>3164</th>\n",
              "      <td>6021503830</td>\n",
              "      <td>20140620T000000</td>\n",
              "      <td>480000.0</td>\n",
              "      <td>4</td>\n",
              "      <td>1.00</td>\n",
              "      <td>2080</td>\n",
              "      <td>5500</td>\n",
              "      <td>1.0</td>\n",
              "      <td>0</td>\n",
              "      <td>0</td>\n",
              "      <td>3</td>\n",
              "      <td>7</td>\n",
              "      <td>1040</td>\n",
              "      <td>1040</td>\n",
              "      <td>1941</td>\n",
              "      <td>0</td>\n",
              "      <td>98117</td>\n",
              "      <td>47.6838</td>\n",
              "      <td>-122.300</td>\n",
              "      <td>NaN</td>\n",
              "      <td>NaN</td>\n",
              "    </tr>\n",
              "  </tbody>\n",
              "</table>\n",
              "<p>3165 rows × 21 columns</p>\n",
              "</div>"
            ],
            "text/plain": [
              "              id             date     price  ...     long  sqft_living15  sqft_lot15\n",
              "0     7129300520  20141013T000000  221900.0  ... -122.257         1340.0      5650.0\n",
              "1     6414100192  20141209T000000  538000.0  ... -122.319         1690.0      7639.0\n",
              "2     5631500400  20150225T000000  180000.0  ... -122.233         2720.0      8062.0\n",
              "3     2487200875  20141209T000000  604000.0  ... -122.393         1360.0      5000.0\n",
              "4     1954400510  20150218T000000  510000.0  ... -122.045         1800.0      7503.0\n",
              "...          ...              ...       ...  ...      ...            ...         ...\n",
              "3160  2759800110  20141031T000000  485000.0  ... -122.378         1970.0      7920.0\n",
              "3161   579000096  20141010T000000  780000.0  ... -122.381         2440.0      7800.0\n",
              "3162  9169600096  20140801T000000  720000.0  ... -122.388         1880.0      7560.0\n",
              "3163  1226059112  20150220T000000  415000.0  ... -122.119         2040.0     50965.0\n",
              "3164  6021503830  20140620T000000  480000.0  ... -122.300            NaN         NaN\n",
              "\n",
              "[3165 rows x 21 columns]"
            ]
          },
          "metadata": {
            "tags": []
          },
          "execution_count": 3
        }
      ]
    },
    {
      "cell_type": "markdown",
      "metadata": {
        "id": "4X02qU6E6k9X",
        "colab_type": "text"
      },
      "source": [
        "Cek dimesi dari dataset."
      ]
    },
    {
      "cell_type": "code",
      "metadata": {
        "id": "dcPA8RNcUYkK",
        "colab_type": "code",
        "outputId": "2c078a2f-3db5-452d-d021-0a80465b72c9",
        "colab": {
          "base_uri": "https://localhost:8080/",
          "height": 34
        }
      },
      "source": [
        "df.shape"
      ],
      "execution_count": 4,
      "outputs": [
        {
          "output_type": "execute_result",
          "data": {
            "text/plain": [
              "(3165, 21)"
            ]
          },
          "metadata": {
            "tags": []
          },
          "execution_count": 4
        }
      ]
    },
    {
      "cell_type": "markdown",
      "metadata": {
        "id": "PQaiet3gGWLD",
        "colab_type": "text"
      },
      "source": [
        "Cek informasi tipe data setiap kolom."
      ]
    },
    {
      "cell_type": "code",
      "metadata": {
        "id": "FB4RT0h8GYmi",
        "colab_type": "code",
        "colab": {
          "base_uri": "https://localhost:8080/",
          "height": 386
        },
        "outputId": "4eaf33dc-b00e-40c6-d503-f2f8173fd701"
      },
      "source": [
        "df.dtypes"
      ],
      "execution_count": 5,
      "outputs": [
        {
          "output_type": "execute_result",
          "data": {
            "text/plain": [
              "id                 int64\n",
              "date              object\n",
              "price            float64\n",
              "bedrooms           int64\n",
              "bathrooms        float64\n",
              "sqft_living        int64\n",
              "sqft_lot           int64\n",
              "floors           float64\n",
              "waterfront         int64\n",
              "view               int64\n",
              "condition          int64\n",
              "grade              int64\n",
              "sqft_above         int64\n",
              "sqft_basement      int64\n",
              "yr_built           int64\n",
              "yr_renovated       int64\n",
              "zipcode            int64\n",
              "lat              float64\n",
              "long             float64\n",
              "sqft_living15    float64\n",
              "sqft_lot15       float64\n",
              "dtype: object"
            ]
          },
          "metadata": {
            "tags": []
          },
          "execution_count": 5
        }
      ]
    },
    {
      "cell_type": "markdown",
      "metadata": {
        "id": "qaJP2A8x6w6i",
        "colab_type": "text"
      },
      "source": [
        "Cek kolom yang memiliki `null` value."
      ]
    },
    {
      "cell_type": "code",
      "metadata": {
        "id": "uwLxtJ_K1VXV",
        "colab_type": "code",
        "outputId": "671d0f05-5f2d-47f4-8f3f-a56c43877770",
        "colab": {
          "base_uri": "https://localhost:8080/",
          "height": 386
        }
      },
      "source": [
        "df.isnull().any()"
      ],
      "execution_count": 6,
      "outputs": [
        {
          "output_type": "execute_result",
          "data": {
            "text/plain": [
              "id               False\n",
              "date             False\n",
              "price            False\n",
              "bedrooms         False\n",
              "bathrooms        False\n",
              "sqft_living      False\n",
              "sqft_lot         False\n",
              "floors           False\n",
              "waterfront       False\n",
              "view             False\n",
              "condition        False\n",
              "grade            False\n",
              "sqft_above       False\n",
              "sqft_basement    False\n",
              "yr_built         False\n",
              "yr_renovated     False\n",
              "zipcode          False\n",
              "lat              False\n",
              "long             False\n",
              "sqft_living15     True\n",
              "sqft_lot15        True\n",
              "dtype: bool"
            ]
          },
          "metadata": {
            "tags": []
          },
          "execution_count": 6
        }
      ]
    },
    {
      "cell_type": "markdown",
      "metadata": {
        "id": "mYe6fsDuGzah",
        "colab_type": "text"
      },
      "source": [
        "Berdasarkan informasi diatas didapatkan kolom `sqft_living15` dan `sqft_lot15` memiliki `null` value.\n",
        "\n",
        "Selanjutnya akan dilakukan drop baris dengan nilai `null` value tersebut.\n",
        "\n",
        "Dilakukan juga drop kolom yang tidak memiliki korelasi. Dalam konteks ini kolom yang digunakan adalah data yang berupa numeric."
      ]
    },
    {
      "cell_type": "code",
      "metadata": {
        "id": "vLXArnNzAmUZ",
        "colab_type": "code",
        "colab": {
          "base_uri": "https://localhost:8080/",
          "height": 402
        },
        "outputId": "78d8188f-26ba-4622-ec37-e3aa463c3183"
      },
      "source": [
        "# Drop row dengan nilai null\n",
        "df = df.dropna()\n",
        "\n",
        "# Drop juga kolom yang tidak memiliki korelasi \n",
        "df = df.drop(['id', 'date', 'zipcode', 'yr_built', 'yr_renovated', 'lat', 'long'], axis=1)\n",
        "df"
      ],
      "execution_count": 7,
      "outputs": [
        {
          "output_type": "execute_result",
          "data": {
            "text/html": [
              "<div>\n",
              "<style scoped>\n",
              "    .dataframe tbody tr th:only-of-type {\n",
              "        vertical-align: middle;\n",
              "    }\n",
              "\n",
              "    .dataframe tbody tr th {\n",
              "        vertical-align: top;\n",
              "    }\n",
              "\n",
              "    .dataframe thead th {\n",
              "        text-align: right;\n",
              "    }\n",
              "</style>\n",
              "<table border=\"1\" class=\"dataframe\">\n",
              "  <thead>\n",
              "    <tr style=\"text-align: right;\">\n",
              "      <th></th>\n",
              "      <th>price</th>\n",
              "      <th>bedrooms</th>\n",
              "      <th>bathrooms</th>\n",
              "      <th>sqft_living</th>\n",
              "      <th>sqft_lot</th>\n",
              "      <th>floors</th>\n",
              "      <th>waterfront</th>\n",
              "      <th>view</th>\n",
              "      <th>condition</th>\n",
              "      <th>grade</th>\n",
              "      <th>sqft_above</th>\n",
              "      <th>sqft_basement</th>\n",
              "      <th>sqft_living15</th>\n",
              "      <th>sqft_lot15</th>\n",
              "    </tr>\n",
              "  </thead>\n",
              "  <tbody>\n",
              "    <tr>\n",
              "      <th>0</th>\n",
              "      <td>221900.0</td>\n",
              "      <td>3</td>\n",
              "      <td>1.00</td>\n",
              "      <td>1180</td>\n",
              "      <td>5650</td>\n",
              "      <td>1.0</td>\n",
              "      <td>0</td>\n",
              "      <td>0</td>\n",
              "      <td>3</td>\n",
              "      <td>7</td>\n",
              "      <td>1180</td>\n",
              "      <td>0</td>\n",
              "      <td>1340.0</td>\n",
              "      <td>5650.0</td>\n",
              "    </tr>\n",
              "    <tr>\n",
              "      <th>1</th>\n",
              "      <td>538000.0</td>\n",
              "      <td>3</td>\n",
              "      <td>2.25</td>\n",
              "      <td>2570</td>\n",
              "      <td>7242</td>\n",
              "      <td>2.0</td>\n",
              "      <td>0</td>\n",
              "      <td>0</td>\n",
              "      <td>3</td>\n",
              "      <td>7</td>\n",
              "      <td>2170</td>\n",
              "      <td>400</td>\n",
              "      <td>1690.0</td>\n",
              "      <td>7639.0</td>\n",
              "    </tr>\n",
              "    <tr>\n",
              "      <th>2</th>\n",
              "      <td>180000.0</td>\n",
              "      <td>2</td>\n",
              "      <td>1.00</td>\n",
              "      <td>770</td>\n",
              "      <td>10000</td>\n",
              "      <td>1.0</td>\n",
              "      <td>0</td>\n",
              "      <td>0</td>\n",
              "      <td>3</td>\n",
              "      <td>6</td>\n",
              "      <td>770</td>\n",
              "      <td>0</td>\n",
              "      <td>2720.0</td>\n",
              "      <td>8062.0</td>\n",
              "    </tr>\n",
              "    <tr>\n",
              "      <th>3</th>\n",
              "      <td>604000.0</td>\n",
              "      <td>4</td>\n",
              "      <td>3.00</td>\n",
              "      <td>1960</td>\n",
              "      <td>5000</td>\n",
              "      <td>1.0</td>\n",
              "      <td>0</td>\n",
              "      <td>0</td>\n",
              "      <td>5</td>\n",
              "      <td>7</td>\n",
              "      <td>1050</td>\n",
              "      <td>910</td>\n",
              "      <td>1360.0</td>\n",
              "      <td>5000.0</td>\n",
              "    </tr>\n",
              "    <tr>\n",
              "      <th>4</th>\n",
              "      <td>510000.0</td>\n",
              "      <td>3</td>\n",
              "      <td>2.00</td>\n",
              "      <td>1680</td>\n",
              "      <td>8080</td>\n",
              "      <td>1.0</td>\n",
              "      <td>0</td>\n",
              "      <td>0</td>\n",
              "      <td>3</td>\n",
              "      <td>8</td>\n",
              "      <td>1680</td>\n",
              "      <td>0</td>\n",
              "      <td>1800.0</td>\n",
              "      <td>7503.0</td>\n",
              "    </tr>\n",
              "    <tr>\n",
              "      <th>...</th>\n",
              "      <td>...</td>\n",
              "      <td>...</td>\n",
              "      <td>...</td>\n",
              "      <td>...</td>\n",
              "      <td>...</td>\n",
              "      <td>...</td>\n",
              "      <td>...</td>\n",
              "      <td>...</td>\n",
              "      <td>...</td>\n",
              "      <td>...</td>\n",
              "      <td>...</td>\n",
              "      <td>...</td>\n",
              "      <td>...</td>\n",
              "      <td>...</td>\n",
              "    </tr>\n",
              "    <tr>\n",
              "      <th>3159</th>\n",
              "      <td>431000.0</td>\n",
              "      <td>3</td>\n",
              "      <td>1.75</td>\n",
              "      <td>1630</td>\n",
              "      <td>9000</td>\n",
              "      <td>1.0</td>\n",
              "      <td>0</td>\n",
              "      <td>0</td>\n",
              "      <td>4</td>\n",
              "      <td>7</td>\n",
              "      <td>1630</td>\n",
              "      <td>0</td>\n",
              "      <td>1600.0</td>\n",
              "      <td>11120.0</td>\n",
              "    </tr>\n",
              "    <tr>\n",
              "      <th>3160</th>\n",
              "      <td>485000.0</td>\n",
              "      <td>3</td>\n",
              "      <td>2.50</td>\n",
              "      <td>1840</td>\n",
              "      <td>8250</td>\n",
              "      <td>1.0</td>\n",
              "      <td>0</td>\n",
              "      <td>1</td>\n",
              "      <td>3</td>\n",
              "      <td>8</td>\n",
              "      <td>1340</td>\n",
              "      <td>500</td>\n",
              "      <td>1970.0</td>\n",
              "      <td>7920.0</td>\n",
              "    </tr>\n",
              "    <tr>\n",
              "      <th>3161</th>\n",
              "      <td>780000.0</td>\n",
              "      <td>3</td>\n",
              "      <td>1.50</td>\n",
              "      <td>1620</td>\n",
              "      <td>7500</td>\n",
              "      <td>1.0</td>\n",
              "      <td>0</td>\n",
              "      <td>2</td>\n",
              "      <td>4</td>\n",
              "      <td>8</td>\n",
              "      <td>1620</td>\n",
              "      <td>0</td>\n",
              "      <td>2440.0</td>\n",
              "      <td>7800.0</td>\n",
              "    </tr>\n",
              "    <tr>\n",
              "      <th>3162</th>\n",
              "      <td>720000.0</td>\n",
              "      <td>2</td>\n",
              "      <td>1.50</td>\n",
              "      <td>1840</td>\n",
              "      <td>9000</td>\n",
              "      <td>1.0</td>\n",
              "      <td>0</td>\n",
              "      <td>2</td>\n",
              "      <td>3</td>\n",
              "      <td>8</td>\n",
              "      <td>1340</td>\n",
              "      <td>500</td>\n",
              "      <td>1880.0</td>\n",
              "      <td>7560.0</td>\n",
              "    </tr>\n",
              "    <tr>\n",
              "      <th>3163</th>\n",
              "      <td>415000.0</td>\n",
              "      <td>3</td>\n",
              "      <td>1.00</td>\n",
              "      <td>1360</td>\n",
              "      <td>73616</td>\n",
              "      <td>1.0</td>\n",
              "      <td>0</td>\n",
              "      <td>0</td>\n",
              "      <td>3</td>\n",
              "      <td>7</td>\n",
              "      <td>1360</td>\n",
              "      <td>0</td>\n",
              "      <td>2040.0</td>\n",
              "      <td>50965.0</td>\n",
              "    </tr>\n",
              "  </tbody>\n",
              "</table>\n",
              "<p>3164 rows × 14 columns</p>\n",
              "</div>"
            ],
            "text/plain": [
              "         price  bedrooms  bathrooms  ...  sqft_basement  sqft_living15  sqft_lot15\n",
              "0     221900.0         3       1.00  ...              0         1340.0      5650.0\n",
              "1     538000.0         3       2.25  ...            400         1690.0      7639.0\n",
              "2     180000.0         2       1.00  ...              0         2720.0      8062.0\n",
              "3     604000.0         4       3.00  ...            910         1360.0      5000.0\n",
              "4     510000.0         3       2.00  ...              0         1800.0      7503.0\n",
              "...        ...       ...        ...  ...            ...            ...         ...\n",
              "3159  431000.0         3       1.75  ...              0         1600.0     11120.0\n",
              "3160  485000.0         3       2.50  ...            500         1970.0      7920.0\n",
              "3161  780000.0         3       1.50  ...              0         2440.0      7800.0\n",
              "3162  720000.0         2       1.50  ...            500         1880.0      7560.0\n",
              "3163  415000.0         3       1.00  ...              0         2040.0     50965.0\n",
              "\n",
              "[3164 rows x 14 columns]"
            ]
          },
          "metadata": {
            "tags": []
          },
          "execution_count": 7
        }
      ]
    },
    {
      "cell_type": "markdown",
      "metadata": {
        "id": "L89ARIsYVo4n",
        "colab_type": "text"
      },
      "source": [
        "# **Supervised Learning**\n",
        "---\n",
        "\n"
      ]
    },
    {
      "cell_type": "markdown",
      "metadata": {
        "id": "mie1d9mVLAKn",
        "colab_type": "text"
      },
      "source": [
        "# **Unsupervised Learning**\n",
        "---\n",
        "## K-Means Clustering\n",
        "\n",
        "Pada clustering digunakan algoritma **K-Means** \n",
        "\n"
      ]
    },
    {
      "cell_type": "markdown",
      "metadata": {
        "id": "8q2evPgXLIh1",
        "colab_type": "text"
      },
      "source": [
        "Pertama akan dilakukan visualisasi dari dataset yang diberikan. Data divisualisasikan dalam bentuk **Scatter Plot** dikarenakan untuk mengetahui persebaran datanya.\n",
        "\n",
        "Pada visualisasinya kontrol yang digunakan adalah `price` yang akan dibandingkan dengan kolom selainnya."
      ]
    },
    {
      "cell_type": "code",
      "metadata": {
        "id": "GHkFOn2jOW6T",
        "colab_type": "code",
        "colab": {
          "base_uri": "https://localhost:8080/",
          "height": 404
        },
        "outputId": "ee346516-6223-488d-d081-4e72396b5f5b"
      },
      "source": [
        "plt.figure(figsize=(6, 6))\n",
        "plt.scatter(df['price'], df['bedrooms'])\n",
        "plt.xlabel('price')\n",
        "plt.ylabel('bedrooms')\n",
        "plt.title('price vs bedrooms');"
      ],
      "execution_count": 8,
      "outputs": [
        {
          "output_type": "display_data",
          "data": {
            "image/png": "[encoded data removed]",
            "text/plain": [
              "<Figure size 432x432 with 1 Axes>"
            ]
          },
          "metadata": {
            "tags": []
          }
        }
      ]
    },
    {
      "cell_type": "code",
      "metadata": {
        "id": "BNOfMO-TOWtc",
        "colab_type": "code",
        "colab": {
          "base_uri": "https://localhost:8080/",
          "height": 404
        },
        "outputId": "8b3a3d3f-a24b-4265-c9de-13b441b1f4d5"
      },
      "source": [
        "plt.figure(figsize=(6, 6))\n",
        "plt.scatter(df['price'], df['bathrooms'])\n",
        "plt.xlabel('price')\n",
        "plt.ylabel('bathrooms')\n",
        "plt.title('price vs bathrooms');"
      ],
      "execution_count": 9,
      "outputs": [
        {
          "output_type": "display_data",
          "data": {
            "image/png": "[encoded data removed]",
            "text/plain": [
              "<Figure size 432x432 with 1 Axes>"
            ]
          },
          "metadata": {
            "tags": []
          }
        }
      ]
    },
    {
      "cell_type": "code",
      "metadata": {
        "id": "WBJnFTzDOWei",
        "colab_type": "code",
        "colab": {
          "base_uri": "https://localhost:8080/",
          "height": 404
        },
        "outputId": "9f1e7d52-bdd0-4948-e286-f3011ff16443"
      },
      "source": [
        "plt.figure(figsize=(6, 6))\n",
        "plt.scatter(df['price'], df['sqft_living'])\n",
        "plt.xlabel('price')\n",
        "plt.ylabel('sqft_living')\n",
        "plt.title('price vs sqft_living');"
      ],
      "execution_count": 10,
      "outputs": [
        {
          "output_type": "display_data",
          "data": {
            "image/png": "[encoded data removed]",
            "text/plain": [
              "<Figure size 432x432 with 1 Axes>"
            ]
          },
          "metadata": {
            "tags": []
          }
        }
      ]
    },
    {
      "cell_type": "code",
      "metadata": {
        "id": "-5GRYDD2OWRc",
        "colab_type": "code",
        "colab": {
          "base_uri": "https://localhost:8080/",
          "height": 404
        },
        "outputId": "f66eaa31-d47b-49b4-bfc5-ff797105788f"
      },
      "source": [
        "plt.figure(figsize=(6, 6))\n",
        "plt.scatter(df['price'], df['sqft_lot'])\n",
        "plt.xlabel('price')\n",
        "plt.ylabel('sqft_lot')\n",
        "plt.title('price vs sqft_lot');"
      ],
      "execution_count": 11,
      "outputs": [
        {
          "output_type": "display_data",
          "data": {
            "image/png": "[encoded data removed]",
            "text/plain": [
              "<Figure size 432x432 with 1 Axes>"
            ]
          },
          "metadata": {
            "tags": []
          }
        }
      ]
    },
    {
      "cell_type": "code",
      "metadata": {
        "id": "4YKcgRAKOWDi",
        "colab_type": "code",
        "colab": {
          "base_uri": "https://localhost:8080/",
          "height": 404
        },
        "outputId": "0aa3b5fe-bbe5-4acb-de14-20693ea9745e"
      },
      "source": [
        "plt.figure(figsize=(6, 6))\n",
        "plt.scatter(df['price'], df['floors'])\n",
        "plt.xlabel('price')\n",
        "plt.ylabel('floors')\n",
        "plt.title('price vs floors');"
      ],
      "execution_count": 12,
      "outputs": [
        {
          "output_type": "display_data",
          "data": {
            "image/png": "[encoded data removed]",
            "text/plain": [
              "<Figure size 432x432 with 1 Axes>"
            ]
          },
          "metadata": {
            "tags": []
          }
        }
      ]
    },
    {
      "cell_type": "code",
      "metadata": {
        "id": "lfoUoRYWPz_w",
        "colab_type": "code",
        "colab": {
          "base_uri": "https://localhost:8080/",
          "height": 404
        },
        "outputId": "10f0d0e8-3cfa-4f9f-9c44-d05b78c3bffb"
      },
      "source": [
        "plt.figure(figsize=(6, 6))\n",
        "plt.scatter(df['price'], df['waterfront'])\n",
        "plt.xlabel('price')\n",
        "plt.ylabel('waterfront')\n",
        "plt.title('price vs waterfront');"
      ],
      "execution_count": 13,
      "outputs": [
        {
          "output_type": "display_data",
          "data": {
            "image/png": "[encoded data removed]",
            "text/plain": [
              "<Figure size 432x432 with 1 Axes>"
            ]
          },
          "metadata": {
            "tags": []
          }
        }
      ]
    },
    {
      "cell_type": "code",
      "metadata": {
        "id": "_HTSyjnrOV1Q",
        "colab_type": "code",
        "colab": {
          "base_uri": "https://localhost:8080/",
          "height": 404
        },
        "outputId": "f534d768-75eb-4556-a06f-ae8d220c046c"
      },
      "source": [
        "plt.figure(figsize=(6, 6))\n",
        "plt.scatter(df['price'], df['view'])\n",
        "plt.xlabel('price')\n",
        "plt.ylabel('waterfront')\n",
        "plt.title('price vs view');"
      ],
      "execution_count": 14,
      "outputs": [
        {
          "output_type": "display_data",
          "data": {
            "image/png": "[encoded data removed]",
            "text/plain": [
              "<Figure size 432x432 with 1 Axes>"
            ]
          },
          "metadata": {
            "tags": []
          }
        }
      ]
    },
    {
      "cell_type": "code",
      "metadata": {
        "id": "IsVh4-xFOVnK",
        "colab_type": "code",
        "colab": {
          "base_uri": "https://localhost:8080/",
          "height": 404
        },
        "outputId": "b8589594-4e2f-4701-fddc-7ba8b6ef347d"
      },
      "source": [
        "plt.figure(figsize=(6, 6))\n",
        "plt.scatter(df['price'], df['condition'])\n",
        "plt.xlabel('price')\n",
        "plt.ylabel('condition')\n",
        "plt.title('price vs condition');"
      ],
      "execution_count": 15,
      "outputs": [
        {
          "output_type": "display_data",
          "data": {
            "image/png": "[encoded data removed]",
            "text/plain": [
              "<Figure size 432x432 with 1 Axes>"
            ]
          },
          "metadata": {
            "tags": []
          }
        }
      ]
    },
    {
      "cell_type": "code",
      "metadata": {
        "id": "5RCy5xEJOVXi",
        "colab_type": "code",
        "colab": {
          "base_uri": "https://localhost:8080/",
          "height": 404
        },
        "outputId": "b4cea929-a332-4256-91a4-ddaae80b19f0"
      },
      "source": [
        "plt.figure(figsize=(6, 6))\n",
        "plt.scatter(df['price'], df['grade'])\n",
        "plt.xlabel('price')\n",
        "plt.ylabel('grade')\n",
        "plt.title('price vs grade');"
      ],
      "execution_count": 16,
      "outputs": [
        {
          "output_type": "display_data",
          "data": {
            "image/png": "[encoded data removed]",
            "text/plain": [
              "<Figure size 432x432 with 1 Axes>"
            ]
          },
          "metadata": {
            "tags": []
          }
        }
      ]
    },
    {
      "cell_type": "code",
      "metadata": {
        "id": "ZNkw8KYWOVJa",
        "colab_type": "code",
        "colab": {
          "base_uri": "https://localhost:8080/",
          "height": 404
        },
        "outputId": "f57b7e4b-b8c8-4f99-9f21-79580312ffcd"
      },
      "source": [
        "plt.figure(figsize=(6, 6))\n",
        "plt.scatter(df['price'], df['sqft_above'])\n",
        "plt.xlabel('price')\n",
        "plt.ylabel('sqft_above')\n",
        "plt.title('price vs sqft_above');"
      ],
      "execution_count": 17,
      "outputs": [
        {
          "output_type": "display_data",
          "data": {
            "image/png": "[encoded data removed]",
            "text/plain": [
              "<Figure size 432x432 with 1 Axes>"
            ]
          },
          "metadata": {
            "tags": []
          }
        }
      ]
    },
    {
      "cell_type": "code",
      "metadata": {
        "id": "6p5fOT8jOU2m",
        "colab_type": "code",
        "colab": {
          "base_uri": "https://localhost:8080/",
          "height": 404
        },
        "outputId": "7c4f46fc-8fa9-499c-edf3-41f4c8c22b36"
      },
      "source": [
        "plt.figure(figsize=(6, 6))\n",
        "plt.scatter(df['price'], df['sqft_basement'])\n",
        "plt.xlabel('price')\n",
        "plt.ylabel('sqft_basement')\n",
        "plt.title('price vs sqft_basement');"
      ],
      "execution_count": 18,
      "outputs": [
        {
          "output_type": "display_data",
          "data": {
            "image/png": "[encoded data removed]",
            "text/plain": [
              "<Figure size 432x432 with 1 Axes>"
            ]
          },
          "metadata": {
            "tags": []
          }
        }
      ]
    },
    {
      "cell_type": "code",
      "metadata": {
        "id": "T0i9xx9GOUiI",
        "colab_type": "code",
        "colab": {
          "base_uri": "https://localhost:8080/",
          "height": 404
        },
        "outputId": "4f17a925-7886-41d3-a2b1-ebd9a615457d"
      },
      "source": [
        "plt.figure(figsize=(6, 6))\n",
        "plt.scatter(df['price'], df['sqft_living15'])\n",
        "plt.xlabel('price')\n",
        "plt.ylabel('sqft_living15')\n",
        "plt.title('price vs sqft_living15');"
      ],
      "execution_count": 19,
      "outputs": [
        {
          "output_type": "display_data",
          "data": {
            "image/png": "[encoded data removed]",
            "text/plain": [
              "<Figure size 432x432 with 1 Axes>"
            ]
          },
          "metadata": {
            "tags": []
          }
        }
      ]
    },
    {
      "cell_type": "code",
      "metadata": {
        "id": "fJ40HfQWOUC-",
        "colab_type": "code",
        "colab": {
          "base_uri": "https://localhost:8080/",
          "height": 404
        },
        "outputId": "5e4651b6-a85c-4948-80da-212fe588cb38"
      },
      "source": [
        "plt.figure(figsize=(6, 6))\n",
        "plt.scatter(df['price'], df['sqft_lot15'])\n",
        "plt.xlabel('price')\n",
        "plt.ylabel('sqft_lot15')\n",
        "plt.title('price vs sqft_lot15');"
      ],
      "execution_count": 20,
      "outputs": [
        {
          "output_type": "display_data",
          "data": {
            "image/png": "[encoded data removed]",
            "text/plain": [
              "<Figure size 432x432 with 1 Axes>"
            ]
          },
          "metadata": {
            "tags": []
          }
        }
      ]
    },
    {
      "cell_type": "code",
      "metadata": {
        "id": "YHa5XjKhuW5H",
        "colab_type": "code",
        "colab": {}
      },
      "source": [
        "from numpy.linalg import norm\n",
        "\n",
        "class Kmeans:\n",
        "    def __init__(self, n_clusters, max_iter=100, random_state=123):\n",
        "      \"\"\"\n",
        "      Inisialisasi model dengan n_clusters, max_iter, random_state\n",
        "      \n",
        "      Parameter\n",
        "      n_clusters = jumlah k cluster\n",
        "      max_iter = maksimum iterasi dari model\n",
        "      random_state = random state  \n",
        "      \"\"\"\n",
        "      self.n_clusters = n_clusters\n",
        "      self.max_iter = max_iter\n",
        "      self.random_state = random_state\n",
        "\n",
        "    def initializ_centroids(self, X):\n",
        "      \"\"\"\n",
        "      Inisialisasi centroids dengan sebanyak random k titik\n",
        "\n",
        "      Parameter\n",
        "      X = data\n",
        "      \"\"\"\n",
        "      np.random.RandomState(self.random_state)\n",
        "      random_idx = np.random.permutation(X.shape[0])\n",
        "      centroids = X[random_idx[:self.n_clusters]]\n",
        "      return centroids\n",
        "\n",
        "    def compute_centroids(self, X, labels):\n",
        "      \"\"\"\n",
        "      Hitung centroid baru berdasarkan data\n",
        "\n",
        "      Parameter\n",
        "      X = data\n",
        "      \"\"\"\n",
        "      centroids = np.zeros((self.n_clusters, X.shape[1]))\n",
        "      for k in range(self.n_clusters):\n",
        "        centroids[k, :] = np.mean(X[labels == k, :], axis=0)\n",
        "      return centroids\n",
        "\n",
        "    def compute_distance(self, X, centroids):\n",
        "      \"\"\"\n",
        "      Menghitung jarak dari data ke centroid\n",
        "\n",
        "      Parameter\n",
        "      X = data\n",
        "      labels = data-data terdekat dengan centroid\n",
        "      centroids = centroid sebanyak k cluster\n",
        "      \"\"\"\n",
        "      distance = np.zeros((X.shape[0], self.n_clusters))\n",
        "      for k in range(self.n_clusters):\n",
        "          row_norm = norm(X - centroids[k, :], axis=1)\n",
        "          distance[:, k] = np.square(row_norm)\n",
        "      return distance\n",
        "\n",
        "    def find_closest_cluster(self, distance):\n",
        "      \"\"\"\n",
        "      Mencari cluster terdekat dari data\n",
        "\n",
        "      Parameter\n",
        "      distance = Jarak data ke centroids\n",
        "      \"\"\"\n",
        "      return np.argmin(distance, axis=1)\n",
        "        \n",
        "    def compute_sse(self, X, labels, centroids):\n",
        "      \"\"\"\n",
        "      SSE = Sum Squared of Error\n",
        "      Menghitung jumlah dari perbedaan kuadrat antara setiap observasi dan rata-rata group.\n",
        "\n",
        "      Parameter\n",
        "      X = data\n",
        "      centroids = centroid sebanyak k cluster\n",
        "      \"\"\"\n",
        "      distance = np.zeros(X.shape[0])\n",
        "      for k in range(self.n_clusters):\n",
        "        distance[labels == k] = norm(X[labels == k] - centroids[k], axis=1)\n",
        "      return np.sum(np.square(distance))\n",
        "\n",
        "    def fit(self, X):\n",
        "      \"\"\"\n",
        "      Proses clustering kmeans\n",
        "\n",
        "      Parameter\n",
        "      X = data\n",
        "      \"\"\"\n",
        "      self.centroids = self.initializ_centroids(X)\n",
        "      #print('Initialize centroids: \\n', self.centroids, '\\n')\n",
        "      for i in range(self.max_iter):\n",
        "        old_centroids = self.centroids\n",
        "        distance = self.compute_distance(X, old_centroids)\n",
        "        self.labels = self.find_closest_cluster(distance)\n",
        "        self.centroids = self.compute_centroids(X, self.labels)\n",
        "        #print('Iteration',i,'Centroids: \\n', self.centroids, '\\n')\n",
        "        if np.all(old_centroids == self.centroids):\n",
        "            break\n",
        "        self.error = self.compute_sse(X, self.labels, self.centroids)"
      ],
      "execution_count": 0,
      "outputs": []
    },
    {
      "cell_type": "markdown",
      "metadata": {
        "id": "pEbhxqWSTzC_",
        "colab_type": "text"
      },
      "source": [
        "Pertama lakukan standarisasi data"
      ]
    },
    {
      "cell_type": "code",
      "metadata": {
        "id": "neQGRMTab7p8",
        "colab_type": "code",
        "colab": {}
      },
      "source": [
        "X_std = StandardScaler().fit_transform(df)"
      ],
      "execution_count": 0,
      "outputs": []
    },
    {
      "cell_type": "markdown",
      "metadata": {
        "id": "2mW2JNs7QcMn",
        "colab_type": "text"
      },
      "source": [
        "Lakukan test untuk cluster **k = 2**"
      ]
    },
    {
      "cell_type": "code",
      "metadata": {
        "id": "qr2-GQJIu9Wq",
        "colab_type": "code",
        "colab": {
          "base_uri": "https://localhost:8080/",
          "height": 1000
        },
        "outputId": "7c1629a3-c507-4f48-fe0f-498a5bac6558"
      },
      "source": [
        "# Inisiasi Model Kmeans dengan k = 2 dan maximum iterasi adalah 100\n",
        "km = Kmeans(n_clusters=2, max_iter=100)\n",
        "km.fit(X_std)\n",
        "centroids = km.centroids"
      ],
      "execution_count": 23,
      "outputs": [
        {
          "output_type": "stream",
          "text": [
            "Initialize centroids: \n",
            " [[-0.22433506 -0.42572316  0.23187031 -0.31521115 -0.12416086 -0.85657386\n",
            "  -0.09947195 -0.31476251 -0.67287883  0.32956926 -0.38152728  0.04625006\n",
            "  -0.04743081 -0.20474119]\n",
            " [ 0.79971652  0.69118238  0.88283542  1.1520104   0.154203    1.11304802\n",
            "  -0.09947195 -0.31476251  0.79235766  2.04463035  1.67778606 -0.67285245\n",
            "   1.96379646  0.33978675]] \n",
            "\n",
            "Iteration 0 Centroids: \n",
            " [[-0.27745552 -0.18418242 -0.26547319 -0.34496433 -0.07609424 -0.22969934\n",
            "  -0.05540008 -0.10325456  0.02562381 -0.34691202 -0.3725874  -0.02929776\n",
            "  -0.34408125 -0.10417802]\n",
            " [ 1.11598774  0.74082262  1.06779217  1.38752318  0.30606793  0.92390179\n",
            "   0.22283144  0.41531277 -0.10306464  1.39535723  1.4986293   0.11784209\n",
            "   1.38397125  0.41902713]] \n",
            "\n",
            "Iteration 1 Centroids: \n",
            " [[-0.31039266 -0.21402211 -0.30794144 -0.39278237 -0.08208272 -0.23100973\n",
            "  -0.06629366 -0.14424319  0.05076125 -0.38433893 -0.3986677  -0.07880955\n",
            "  -0.38019324 -0.11036195]\n",
            " [ 1.06123076  0.7317404   1.05285005  1.34292072  0.28064038  0.78982096\n",
            "   0.22665767  0.49316667 -0.17355243  1.31405265  1.36304263  0.2694494\n",
            "   1.29987855  0.37732688]] \n",
            "\n",
            "Iteration 2 Centroids: \n",
            " [[-0.32503635 -0.23816909 -0.3291373  -0.41590366 -0.08378582 -0.24086083\n",
            "  -0.07396302 -0.16639515  0.05237642 -0.40479002 -0.4143693  -0.09725471\n",
            "  -0.40205407 -0.11053925]\n",
            " [ 1.00024072  0.7329224   1.01286066  1.27986847  0.25783575  0.74120574\n",
            "   0.22760784  0.51205106 -0.16117897  1.24566826  1.27514677  0.29928383\n",
            "   1.23724888  0.34016459]] \n",
            "\n",
            "Iteration 3 Centroids: \n",
            " [[-0.33080783 -0.25451518 -0.34474246 -0.43449014 -0.08655452 -0.2560999\n",
            "  -0.07346199 -0.1739332   0.05160616 -0.41848151 -0.43060095 -0.1056653\n",
            "  -0.41829712 -0.11373312]\n",
            " [ 0.94252062  0.72515152  0.98222243  1.23792688  0.24660666  0.72966663\n",
            "   0.20930411  0.49556149 -0.14703362  1.19231593  1.22684601  0.30105613\n",
            "   1.19179057  0.32404254]] \n",
            "\n",
            "Iteration 4 Centroids: \n",
            " [[-0.33734791 -0.26678823 -0.35766967 -0.44837032 -0.08676751 -0.26953255\n",
            "  -0.07304447 -0.17502627  0.05242912 -0.4297452  -0.44582525 -0.10643054\n",
            "  -0.43164167 -0.11422789]\n",
            " [ 0.90522343  0.71588692  0.95975388  1.20313573  0.23282784  0.7232509\n",
            "   0.19600409  0.46965721 -0.14068583  1.15315797  1.19630641  0.28559067\n",
            "   1.15824685  0.30651372]] \n",
            "\n",
            "Iteration 5 Centroids: \n",
            " [[-0.34446242 -0.27437828 -0.36926288 -0.4578657  -0.08641591 -0.2846643\n",
            "  -0.07267242 -0.18099441  0.05168158 -0.44156687 -0.45791403 -0.10397832\n",
            "  -0.44102605 -0.11591036]\n",
            " [ 0.87874644  0.69995717  0.94201406  1.16804572  0.2204527   0.72619748\n",
            "   0.18539216  0.46172873 -0.13184313  1.12646634  1.16816902  0.26525557\n",
            "   1.12508666  0.29569501]] \n",
            "\n",
            "Iteration 6 Centroids: \n",
            " [[-0.35041197 -0.29003834 -0.3817348  -0.47007265 -0.08768439 -0.29709217\n",
            "  -0.07226546 -0.1818402   0.05221364 -0.45097886 -0.46972061 -0.10746447\n",
            "  -0.45183797 -0.11778937]\n",
            " [ 0.84818638  0.70204957  0.92400456  1.1378299   0.21224362  0.71912364\n",
            "   0.17492147  0.44015158 -0.12638522  1.09161262  1.13697778  0.2601221\n",
            "   1.09369212  0.28511395]] \n",
            "\n",
            "Iteration 7 Centroids: \n",
            " [[-0.35504137 -0.30033041 -0.39448837 -0.47980476 -0.0917068  -0.30777248\n",
            "  -0.07189597 -0.18353442  0.05808116 -0.46041474 -0.47882905 -0.11078511\n",
            "  -0.4626973  -0.11983721]\n",
            " [ 0.82124229  0.69469098  0.91248671  1.10983112  0.21212598  0.71190513\n",
            "   0.16630179  0.42453146 -0.13434688  1.06498027  1.10757421  0.25625583\n",
            "   1.07026003  0.27719413]] \n",
            "\n",
            "Iteration 8 Centroids: \n",
            " [[-0.35703178 -0.3039993  -0.40128453 -0.48458528 -0.09200182 -0.31499521\n",
            "  -0.07169478 -0.18610194  0.06207791 -0.46500533 -0.4851581  -0.10911877\n",
            "  -0.46850498 -0.12070965]\n",
            " [ 0.80635498  0.68658132  0.90629966  1.09443411  0.20778578  0.71141554\n",
            "   0.1619224   0.42031056 -0.14020274  1.05021285  1.09572782  0.24644435\n",
            "   1.0581168   0.27262232]] \n",
            "\n",
            "Iteration 9 Centroids: \n",
            " [[-0.35829006 -0.30481045 -0.40729978 -0.48797338 -0.0921922  -0.32441456\n",
            "  -0.07152914 -0.18651669  0.0644443  -0.46974361 -0.49017878 -0.10698655\n",
            "  -0.47276085 -0.12068976]\n",
            " [ 0.7937727   0.67529144  0.90235114  1.08107923  0.20424695  0.71872331\n",
            "   0.15846902  0.41321786 -0.14277295  1.04069215  1.08596518  0.23702304\n",
            "   1.04737668  0.26738178]] \n",
            "\n",
            "Iteration 10 Centroids: \n",
            " [[-0.35977839 -0.30642202 -0.409654   -0.49053067 -0.09182164 -0.32880226\n",
            "  -0.07142622 -0.18604433  0.06378703 -0.47268768 -0.49360335 -0.10602599\n",
            "  -0.4759526  -0.12029889]\n",
            " [ 0.7877406   0.67091595  0.89694404  1.07402481  0.20104496  0.71991784\n",
            "   0.15638885  0.40734705 -0.13966273  1.03495729  1.0807525   0.23214561\n",
            "   1.0421059   0.26339636]] \n",
            "\n",
            "Iteration 11 Centroids: \n",
            " [[-0.36051246 -0.30747472 -0.41367761 -0.49288814 -0.09160139 -0.33389104\n",
            "  -0.07130952 -0.18550874  0.06346517 -0.47681869 -0.49692021 -0.10485627\n",
            "  -0.47954813 -0.12004531]\n",
            " [ 0.77900944  0.66440342  0.89389077  1.06505199  0.19793588  0.72148482\n",
            "   0.15408841  0.40085456 -0.13713802  1.03032849  1.07376465  0.22657753\n",
            "   1.03622639  0.25939862]] \n",
            "\n",
            "Iteration 12 Centroids: \n",
            " [[-0.36171027 -0.30921702 -0.41547329 -0.49513581 -0.0919842  -0.33517651\n",
            "  -0.07123118 -0.18514921  0.06347553 -0.47945932 -0.49891762 -0.10581202\n",
            "  -0.48184471 -0.1207641 ]\n",
            " [ 0.77478556  0.6623447   0.88994626  1.06058386  0.1970307   0.71795008\n",
            "   0.15257762  0.3965907  -0.13596496  1.02700473  1.06868452  0.22664998\n",
            "   1.03211424  0.25867742]] \n",
            "\n",
            "Iteration 13 Centroids: \n",
            " [[-0.36164842 -0.30968103 -0.41592451 -0.49531504 -0.09191625 -0.33584823\n",
            "  -0.07121809 -0.18508909  0.06381707 -0.47983457 -0.49926771 -0.10554902\n",
            "  -0.48223547 -0.12067285]\n",
            " [ 0.7735258   0.66237331  0.8896163   1.05942384  0.19659864  0.71834204\n",
            "   0.15232757  0.395885   -0.13649762  1.02631283  1.06787816  0.22575762\n",
            "   1.0314481   0.25810581]] \n",
            "\n",
            "Iteration 14 Centroids: \n",
            " [[-0.36160857 -0.30962718 -0.41637614 -0.49561044 -0.09183674 -0.33652057\n",
            "  -0.07120497 -0.18502892  0.06415892 -0.48021016 -0.49974895 -0.10528577\n",
            "  -0.4826807  -0.12058102]\n",
            " [ 0.77231564  0.66129491  0.889287    1.05851387  0.19614289  0.71873323\n",
            "   0.15207802  0.39518069 -0.13702921  1.0256223   1.06735282  0.22486703\n",
            "   1.03089883  0.25753429]] \n",
            "\n",
            "Iteration 15 Centroids: \n",
            " [[-0.36202582 -0.30957328 -0.41652599 -0.49585565 -0.09250686 -0.33627913\n",
            "  -0.07119185 -0.18496869  0.06382085 -0.48098422 -0.50017374 -0.10502227\n",
            "  -0.48311282 -0.12139906]\n",
            " [ 0.77208279  0.66021866  0.88831384  1.05749809  0.19728691  0.71717352\n",
            "   0.15182896  0.39447777 -0.13610903  1.02578218  1.06670716  0.22397819\n",
            "   1.03032179  0.25890454]] \n",
            "\n",
            "Iteration 16 Centroids: \n",
            " [[-0.36221173 -0.30951933 -0.41697832 -0.49617681 -0.09246795 -0.3369523\n",
            "  -0.07117872 -0.1849084   0.06348247 -0.48136069 -0.50068431 -0.10475853\n",
            "  -0.48340318 -0.12134315]\n",
            " [ 0.77135693  0.65914453  0.88798648  1.05664556  0.19691741  0.71756509\n",
            "   0.15158039  0.39377625 -0.13519066  1.02509354  1.06624463  0.22309112\n",
            "   1.02944317  0.25840931]] \n",
            "\n",
            "Iteration 17 Centroids: \n",
            " [[-0.36221173 -0.30951933 -0.41697832 -0.49617681 -0.09246795 -0.3369523\n",
            "  -0.07117872 -0.1849084   0.06348247 -0.48136069 -0.50068431 -0.10475853\n",
            "  -0.48340318 -0.12134315]\n",
            " [ 0.77135693  0.65914453  0.88798648  1.05664556  0.19691741  0.71756509\n",
            "   0.15158039  0.39377625 -0.13519066  1.02509354  1.06624463  0.22309112\n",
            "   1.02944317  0.25840931]] \n",
            "\n"
          ],
          "name": "stdout"
        }
      ]
    },
    {
      "cell_type": "markdown",
      "metadata": {
        "id": "sQsKxnNUkjUA",
        "colab_type": "text"
      },
      "source": [
        "Lakukan visualisasi clustering dari K-Means dengan K = 2"
      ]
    },
    {
      "cell_type": "code",
      "metadata": {
        "id": "ljHTeM1ncfwa",
        "colab_type": "code",
        "colab": {
          "base_uri": "https://localhost:8080/",
          "height": 426
        },
        "outputId": "3672809f-4b6e-4cac-9a9c-572d3dbeaaea"
      },
      "source": [
        "# Plotting\n",
        "fig, ax = plt.subplots(figsize=(10, 10))\n",
        "plt.scatter(X_std[km.labels == 0, 0], X_std[km.labels == 0, 1],\n",
        "            c='red', label='cluster 1')\n",
        "plt.scatter(X_std[km.labels == 1, 0], X_std[km.labels == 1, 1],\n",
        "            c='blue', label='cluster 2')\n",
        "plt.scatter(centroids[:, 0], centroids[:, 1], marker='*', s=300,\n",
        "            c='green', label='centroid')\n",
        "plt.legend()\n",
        "plt.title('KC House Data')\n",
        "ax.set_aspect('equal');"
      ],
      "execution_count": 24,
      "outputs": [
        {
          "output_type": "display_data",
          "data": {
            "image/png": "[encoded data removed]",
            "text/plain": [
              "<Figure size 720x720 with 1 Axes>"
            ]
          },
          "metadata": {
            "tags": []
          }
        }
      ]
    },
    {
      "cell_type": "markdown",
      "metadata": {
        "id": "JMw800kTpHem",
        "colab_type": "text"
      },
      "source": [
        "Didapatkan centroid hasil akhirnya adalah\n",
        "\n",
        "**centroid 1** \n",
        "\n",
        "[-0.36221173 -0.30951933 -0.41697832 -0.49617681 -0.09246795 -0.3369523\n",
        "  -0.07117872 -0.1849084   0.06348247 -0.48136069 -0.50068431 -0.10475853\n",
        "  -0.48340318 -0.12134315]\n",
        "\n",
        "**centroid 2**\n",
        "\n",
        " [ 0.77135693  0.65914453  0.88798648  1.05664556  0.19691741  0.71756509\n",
        "   0.15158039  0.39377625 -0.13519066  1.02509354  1.06624463  0.22309112\n",
        "   1.02944317  0.25840931]\n",
        "\n",
        "Lalu didapatkan **cluster 1** digambarkan berwarna **merah** dan **cluster 2** digambarkan berwarna **biru**"
      ]
    },
    {
      "cell_type": "markdown",
      "metadata": {
        "id": "Sca5I13vpvjZ",
        "colab_type": "text"
      },
      "source": [
        "Lakukan pengujian dengan membandingkan K dengan Sum Square of Error"
      ]
    },
    {
      "cell_type": "code",
      "metadata": {
        "id": "0XamLgH4eLl-",
        "colab_type": "code",
        "colab": {
          "base_uri": "https://localhost:8080/",
          "height": 621
        },
        "outputId": "04f8f98a-6271-4ca6-b147-0474005061bd"
      },
      "source": [
        "# Jalankan kmeans dengan k dari 1..10\n",
        "sse = []\n",
        "list_k = list(range(1, 10))\n",
        "\n",
        "for k in list_k:\n",
        "    km = Kmeans(n_clusters=k)\n",
        "    km.fit(X_std)\n",
        "    sse.append(km.error)\n",
        "\n",
        "# Plot sse vs k\n",
        "plt.figure(figsize=(10, 10))\n",
        "plt.plot(list_k, sse, '-o')\n",
        "plt.title('k vs sse')\n",
        "plt.xlabel('k')\n",
        "plt.ylabel('sum of squared distance');"
      ],
      "execution_count": 27,
      "outputs": [
        {
          "output_type": "display_data",
          "data": {
            "image/png": "[encoded data removed]",
            "text/plain": [
              "<Figure size 720x720 with 1 Axes>"
            ]
          },
          "metadata": {
            "tags": []
          }
        }
      ]
    },
    {
      "cell_type": "markdown",
      "metadata": {
        "id": "zE3T3jj9l9CX",
        "colab_type": "text"
      },
      "source": [
        "Berdasarkan SSE dengan menggunakan K = 2 kita mendapatkan hasil yang tidak terlalu buruk"
      ]
    }
  ]
}