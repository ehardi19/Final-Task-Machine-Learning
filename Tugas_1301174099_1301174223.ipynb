{
  "nbformat": 4,
  "nbformat_minor": 0,
  "metadata": {
    "colab": {
      "name": "Tugas_1301174099_1301174223.ipynb",
      "provenance": [],
      "collapsed_sections": [],
      "include_colab_link": true
    },
    "kernelspec": {
      "name": "python3",
      "display_name": "Python 3"
    }
  },
  "cells": [
    {
      "cell_type": "markdown",
      "metadata": {
        "id": "view-in-github",
        "colab_type": "text"
      },
      "source": [
        "<a href=\"https://colab.research.google.com/github/ehardi19/Final-Task-Machine-Learning/blob/master/Tugas_1301174099_1301174223.ipynb\" target=\"_parent\"><img src=\"https://colab.research.google.com/assets/colab-badge.svg\" alt=\"Open In Colab\"/></a>"
      ]
    },
    {
      "cell_type": "markdown",
      "metadata": {
        "id": "OojCCfG5vvdp",
        "colab_type": "text"
      },
      "source": [
        "# **Tugas Besar Pembelajaran Mesin (CSH3L3)**\n",
        "Kelas IFIK-40-01 Semester Ganjil Tahun Ajaran 2019/2020\n",
        "\n"
      ]
    },
    {
      "cell_type": "markdown",
      "metadata": {
        "id": "TptxvAZtHzFM",
        "colab_type": "text"
      },
      "source": [
        "**Anggota** \n",
        "\n",
        "\n",
        "1.   Eko Hardiyanto (1301174099)\n",
        "2.   Ganesha Danu Enastika (1301174223)\n",
        "\n"
      ]
    },
    {
      "cell_type": "code",
      "metadata": {
        "id": "pQJ4Da7GSgCF",
        "colab_type": "code",
        "colab": {}
      },
      "source": [
        "import pandas as pd\n",
        "import numpy as np\n",
        "import matplotlib.pyplot as plt\n",
        "import seaborn as sns\n",
        "from sklearn.preprocessing import StandardScaler\n",
        "%matplotlib inline"
      ],
      "execution_count": 0,
      "outputs": []
    },
    {
      "cell_type": "markdown",
      "metadata": {
        "id": "g9rB0pVO-b0H",
        "colab_type": "text"
      },
      "source": [
        "### **Data Preprocessing**"
      ]
    },
    {
      "cell_type": "code",
      "metadata": {
        "colab_type": "code",
        "id": "PyudGdhW4YM3",
        "outputId": "7309d1c8-1065-4b99-bda5-8368f47316fa",
        "colab": {
          "base_uri": "https://localhost:8080/",
          "height": 204
        }
      },
      "source": [
        "!wget -O kc_house_data.csv https://raw.githubusercontent.com/Jonasyao/Machine-Learning-Specialization-University-of-Washington-/master/Regression/Assignment_four/kc_house_data.csv\n"
      ],
      "execution_count": 5,
      "outputs": [
        {
          "output_type": "stream",
          "text": [
            "--2019-12-07 14:17:37--  https://raw.githubusercontent.com/Jonasyao/Machine-Learning-Specialization-University-of-Washington-/master/Regression/Assignment_four/kc_house_data.csv\n",
            "Resolving raw.githubusercontent.com (raw.githubusercontent.com)... 151.101.0.133, 151.101.64.133, 151.101.128.133, ...\n",
            "Connecting to raw.githubusercontent.com (raw.githubusercontent.com)|151.101.0.133|:443... connected.\n",
            "HTTP request sent, awaiting response... 200 OK\n",
            "Length: 368640 (360K) [text/plain]\n",
            "Saving to: ‘kc_house_data.csv’\n",
            "\n",
            "\rkc_house_data.csv     0%[                    ]       0  --.-KB/s               \rkc_house_data.csv   100%[===================>] 360.00K  --.-KB/s    in 0.03s   \n",
            "\n",
            "2019-12-07 14:17:37 (12.1 MB/s) - ‘kc_house_data.csv’ saved [368640/368640]\n",
            "\n"
          ],
          "name": "stdout"
        }
      ]
    },
    {
      "cell_type": "markdown",
      "metadata": {
        "id": "qTlXcYZA6U_x",
        "colab_type": "text"
      },
      "source": [
        "Baca dataset dan lihat 5 data index teratas."
      ]
    },
    {
      "cell_type": "code",
      "metadata": {
        "id": "5HThjotETI-g",
        "colab_type": "code",
        "outputId": "08d05535-7b93-4771-fbb5-e47b9c843096",
        "colab": {
          "base_uri": "https://localhost:8080/",
          "height": 439
        }
      },
      "source": [
        "df = pd.read_csv('kc_house_data.csv')\n",
        "df"
      ],
      "execution_count": 6,
      "outputs": [
        {
          "output_type": "execute_result",
          "data": {
            "text/html": [
              "<div>\n",
              "<style scoped>\n",
              "    .dataframe tbody tr th:only-of-type {\n",
              "        vertical-align: middle;\n",
              "    }\n",
              "\n",
              "    .dataframe tbody tr th {\n",
              "        vertical-align: top;\n",
              "    }\n",
              "\n",
              "    .dataframe thead th {\n",
              "        text-align: right;\n",
              "    }\n",
              "</style>\n",
              "<table border=\"1\" class=\"dataframe\">\n",
              "  <thead>\n",
              "    <tr style=\"text-align: right;\">\n",
              "      <th></th>\n",
              "      <th>id</th>\n",
              "      <th>date</th>\n",
              "      <th>price</th>\n",
              "      <th>bedrooms</th>\n",
              "      <th>bathrooms</th>\n",
              "      <th>sqft_living</th>\n",
              "      <th>sqft_lot</th>\n",
              "      <th>floors</th>\n",
              "      <th>waterfront</th>\n",
              "      <th>view</th>\n",
              "      <th>condition</th>\n",
              "      <th>grade</th>\n",
              "      <th>sqft_above</th>\n",
              "      <th>sqft_basement</th>\n",
              "      <th>yr_built</th>\n",
              "      <th>yr_renovated</th>\n",
              "      <th>zipcode</th>\n",
              "      <th>lat</th>\n",
              "      <th>long</th>\n",
              "      <th>sqft_living15</th>\n",
              "      <th>sqft_lot15</th>\n",
              "    </tr>\n",
              "  </thead>\n",
              "  <tbody>\n",
              "    <tr>\n",
              "      <th>0</th>\n",
              "      <td>7129300520</td>\n",
              "      <td>20141013T000000</td>\n",
              "      <td>221900.0</td>\n",
              "      <td>3</td>\n",
              "      <td>1.00</td>\n",
              "      <td>1180</td>\n",
              "      <td>5650</td>\n",
              "      <td>1.0</td>\n",
              "      <td>0</td>\n",
              "      <td>0</td>\n",
              "      <td>3</td>\n",
              "      <td>7</td>\n",
              "      <td>1180</td>\n",
              "      <td>0</td>\n",
              "      <td>1955</td>\n",
              "      <td>0</td>\n",
              "      <td>98178</td>\n",
              "      <td>47.5112</td>\n",
              "      <td>-122.257</td>\n",
              "      <td>1340.0</td>\n",
              "      <td>5650.0</td>\n",
              "    </tr>\n",
              "    <tr>\n",
              "      <th>1</th>\n",
              "      <td>6414100192</td>\n",
              "      <td>20141209T000000</td>\n",
              "      <td>538000.0</td>\n",
              "      <td>3</td>\n",
              "      <td>2.25</td>\n",
              "      <td>2570</td>\n",
              "      <td>7242</td>\n",
              "      <td>2.0</td>\n",
              "      <td>0</td>\n",
              "      <td>0</td>\n",
              "      <td>3</td>\n",
              "      <td>7</td>\n",
              "      <td>2170</td>\n",
              "      <td>400</td>\n",
              "      <td>1951</td>\n",
              "      <td>1991</td>\n",
              "      <td>98125</td>\n",
              "      <td>47.7210</td>\n",
              "      <td>-122.319</td>\n",
              "      <td>1690.0</td>\n",
              "      <td>7639.0</td>\n",
              "    </tr>\n",
              "    <tr>\n",
              "      <th>2</th>\n",
              "      <td>5631500400</td>\n",
              "      <td>20150225T000000</td>\n",
              "      <td>180000.0</td>\n",
              "      <td>2</td>\n",
              "      <td>1.00</td>\n",
              "      <td>770</td>\n",
              "      <td>10000</td>\n",
              "      <td>1.0</td>\n",
              "      <td>0</td>\n",
              "      <td>0</td>\n",
              "      <td>3</td>\n",
              "      <td>6</td>\n",
              "      <td>770</td>\n",
              "      <td>0</td>\n",
              "      <td>1933</td>\n",
              "      <td>0</td>\n",
              "      <td>98028</td>\n",
              "      <td>47.7379</td>\n",
              "      <td>-122.233</td>\n",
              "      <td>2720.0</td>\n",
              "      <td>8062.0</td>\n",
              "    </tr>\n",
              "    <tr>\n",
              "      <th>3</th>\n",
              "      <td>2487200875</td>\n",
              "      <td>20141209T000000</td>\n",
              "      <td>604000.0</td>\n",
              "      <td>4</td>\n",
              "      <td>3.00</td>\n",
              "      <td>1960</td>\n",
              "      <td>5000</td>\n",
              "      <td>1.0</td>\n",
              "      <td>0</td>\n",
              "      <td>0</td>\n",
              "      <td>5</td>\n",
              "      <td>7</td>\n",
              "      <td>1050</td>\n",
              "      <td>910</td>\n",
              "      <td>1965</td>\n",
              "      <td>0</td>\n",
              "      <td>98136</td>\n",
              "      <td>47.5208</td>\n",
              "      <td>-122.393</td>\n",
              "      <td>1360.0</td>\n",
              "      <td>5000.0</td>\n",
              "    </tr>\n",
              "    <tr>\n",
              "      <th>4</th>\n",
              "      <td>1954400510</td>\n",
              "      <td>20150218T000000</td>\n",
              "      <td>510000.0</td>\n",
              "      <td>3</td>\n",
              "      <td>2.00</td>\n",
              "      <td>1680</td>\n",
              "      <td>8080</td>\n",
              "      <td>1.0</td>\n",
              "      <td>0</td>\n",
              "      <td>0</td>\n",
              "      <td>3</td>\n",
              "      <td>8</td>\n",
              "      <td>1680</td>\n",
              "      <td>0</td>\n",
              "      <td>1987</td>\n",
              "      <td>0</td>\n",
              "      <td>98074</td>\n",
              "      <td>47.6168</td>\n",
              "      <td>-122.045</td>\n",
              "      <td>1800.0</td>\n",
              "      <td>7503.0</td>\n",
              "    </tr>\n",
              "    <tr>\n",
              "      <th>...</th>\n",
              "      <td>...</td>\n",
              "      <td>...</td>\n",
              "      <td>...</td>\n",
              "      <td>...</td>\n",
              "      <td>...</td>\n",
              "      <td>...</td>\n",
              "      <td>...</td>\n",
              "      <td>...</td>\n",
              "      <td>...</td>\n",
              "      <td>...</td>\n",
              "      <td>...</td>\n",
              "      <td>...</td>\n",
              "      <td>...</td>\n",
              "      <td>...</td>\n",
              "      <td>...</td>\n",
              "      <td>...</td>\n",
              "      <td>...</td>\n",
              "      <td>...</td>\n",
              "      <td>...</td>\n",
              "      <td>...</td>\n",
              "      <td>...</td>\n",
              "    </tr>\n",
              "    <tr>\n",
              "      <th>3160</th>\n",
              "      <td>2759800110</td>\n",
              "      <td>20141031T000000</td>\n",
              "      <td>485000.0</td>\n",
              "      <td>3</td>\n",
              "      <td>2.50</td>\n",
              "      <td>1840</td>\n",
              "      <td>8250</td>\n",
              "      <td>1.0</td>\n",
              "      <td>0</td>\n",
              "      <td>1</td>\n",
              "      <td>3</td>\n",
              "      <td>8</td>\n",
              "      <td>1340</td>\n",
              "      <td>500</td>\n",
              "      <td>1958</td>\n",
              "      <td>0</td>\n",
              "      <td>98177</td>\n",
              "      <td>47.7767</td>\n",
              "      <td>-122.378</td>\n",
              "      <td>1970.0</td>\n",
              "      <td>7920.0</td>\n",
              "    </tr>\n",
              "    <tr>\n",
              "      <th>3161</th>\n",
              "      <td>579000096</td>\n",
              "      <td>20141010T000000</td>\n",
              "      <td>780000.0</td>\n",
              "      <td>3</td>\n",
              "      <td>1.50</td>\n",
              "      <td>1620</td>\n",
              "      <td>7500</td>\n",
              "      <td>1.0</td>\n",
              "      <td>0</td>\n",
              "      <td>2</td>\n",
              "      <td>4</td>\n",
              "      <td>8</td>\n",
              "      <td>1620</td>\n",
              "      <td>0</td>\n",
              "      <td>1949</td>\n",
              "      <td>0</td>\n",
              "      <td>98117</td>\n",
              "      <td>47.7014</td>\n",
              "      <td>-122.381</td>\n",
              "      <td>2440.0</td>\n",
              "      <td>7800.0</td>\n",
              "    </tr>\n",
              "    <tr>\n",
              "      <th>3162</th>\n",
              "      <td>9169600096</td>\n",
              "      <td>20140801T000000</td>\n",
              "      <td>720000.0</td>\n",
              "      <td>2</td>\n",
              "      <td>1.50</td>\n",
              "      <td>1840</td>\n",
              "      <td>9000</td>\n",
              "      <td>1.0</td>\n",
              "      <td>0</td>\n",
              "      <td>2</td>\n",
              "      <td>3</td>\n",
              "      <td>8</td>\n",
              "      <td>1340</td>\n",
              "      <td>500</td>\n",
              "      <td>1957</td>\n",
              "      <td>0</td>\n",
              "      <td>98136</td>\n",
              "      <td>47.5281</td>\n",
              "      <td>-122.388</td>\n",
              "      <td>1880.0</td>\n",
              "      <td>7560.0</td>\n",
              "    </tr>\n",
              "    <tr>\n",
              "      <th>3163</th>\n",
              "      <td>1226059112</td>\n",
              "      <td>20150220T000000</td>\n",
              "      <td>415000.0</td>\n",
              "      <td>3</td>\n",
              "      <td>1.00</td>\n",
              "      <td>1360</td>\n",
              "      <td>73616</td>\n",
              "      <td>1.0</td>\n",
              "      <td>0</td>\n",
              "      <td>0</td>\n",
              "      <td>3</td>\n",
              "      <td>7</td>\n",
              "      <td>1360</td>\n",
              "      <td>0</td>\n",
              "      <td>1971</td>\n",
              "      <td>0</td>\n",
              "      <td>98072</td>\n",
              "      <td>47.7528</td>\n",
              "      <td>-122.119</td>\n",
              "      <td>2040.0</td>\n",
              "      <td>50965.0</td>\n",
              "    </tr>\n",
              "    <tr>\n",
              "      <th>3164</th>\n",
              "      <td>6021503830</td>\n",
              "      <td>20140620T000000</td>\n",
              "      <td>480000.0</td>\n",
              "      <td>4</td>\n",
              "      <td>1.00</td>\n",
              "      <td>2080</td>\n",
              "      <td>5500</td>\n",
              "      <td>1.0</td>\n",
              "      <td>0</td>\n",
              "      <td>0</td>\n",
              "      <td>3</td>\n",
              "      <td>7</td>\n",
              "      <td>1040</td>\n",
              "      <td>1040</td>\n",
              "      <td>1941</td>\n",
              "      <td>0</td>\n",
              "      <td>98117</td>\n",
              "      <td>47.6838</td>\n",
              "      <td>-122.300</td>\n",
              "      <td>NaN</td>\n",
              "      <td>NaN</td>\n",
              "    </tr>\n",
              "  </tbody>\n",
              "</table>\n",
              "<p>3165 rows × 21 columns</p>\n",
              "</div>"
            ],
            "text/plain": [
              "              id             date     price  ...     long  sqft_living15  sqft_lot15\n",
              "0     7129300520  20141013T000000  221900.0  ... -122.257         1340.0      5650.0\n",
              "1     6414100192  20141209T000000  538000.0  ... -122.319         1690.0      7639.0\n",
              "2     5631500400  20150225T000000  180000.0  ... -122.233         2720.0      8062.0\n",
              "3     2487200875  20141209T000000  604000.0  ... -122.393         1360.0      5000.0\n",
              "4     1954400510  20150218T000000  510000.0  ... -122.045         1800.0      7503.0\n",
              "...          ...              ...       ...  ...      ...            ...         ...\n",
              "3160  2759800110  20141031T000000  485000.0  ... -122.378         1970.0      7920.0\n",
              "3161   579000096  20141010T000000  780000.0  ... -122.381         2440.0      7800.0\n",
              "3162  9169600096  20140801T000000  720000.0  ... -122.388         1880.0      7560.0\n",
              "3163  1226059112  20150220T000000  415000.0  ... -122.119         2040.0     50965.0\n",
              "3164  6021503830  20140620T000000  480000.0  ... -122.300            NaN         NaN\n",
              "\n",
              "[3165 rows x 21 columns]"
            ]
          },
          "metadata": {
            "tags": []
          },
          "execution_count": 6
        }
      ]
    },
    {
      "cell_type": "markdown",
      "metadata": {
        "id": "4X02qU6E6k9X",
        "colab_type": "text"
      },
      "source": [
        "Cek dimesi dari dataset."
      ]
    },
    {
      "cell_type": "code",
      "metadata": {
        "id": "dcPA8RNcUYkK",
        "colab_type": "code",
        "outputId": "c4f3e7ce-b508-416f-f974-66a68b309066",
        "colab": {
          "base_uri": "https://localhost:8080/",
          "height": 34
        }
      },
      "source": [
        "df.shape"
      ],
      "execution_count": 7,
      "outputs": [
        {
          "output_type": "execute_result",
          "data": {
            "text/plain": [
              "(3165, 21)"
            ]
          },
          "metadata": {
            "tags": []
          },
          "execution_count": 7
        }
      ]
    },
    {
      "cell_type": "markdown",
      "metadata": {
        "id": "PQaiet3gGWLD",
        "colab_type": "text"
      },
      "source": [
        "Cek informasi tipe data setiap kolom."
      ]
    },
    {
      "cell_type": "code",
      "metadata": {
        "id": "FB4RT0h8GYmi",
        "colab_type": "code",
        "outputId": "cfa8ba26-c3a8-403d-a537-a71e312a0585",
        "colab": {
          "base_uri": "https://localhost:8080/",
          "height": 391
        }
      },
      "source": [
        "df.dtypes"
      ],
      "execution_count": 8,
      "outputs": [
        {
          "output_type": "execute_result",
          "data": {
            "text/plain": [
              "id                 int64\n",
              "date              object\n",
              "price            float64\n",
              "bedrooms           int64\n",
              "bathrooms        float64\n",
              "sqft_living        int64\n",
              "sqft_lot           int64\n",
              "floors           float64\n",
              "waterfront         int64\n",
              "view               int64\n",
              "condition          int64\n",
              "grade              int64\n",
              "sqft_above         int64\n",
              "sqft_basement      int64\n",
              "yr_built           int64\n",
              "yr_renovated       int64\n",
              "zipcode            int64\n",
              "lat              float64\n",
              "long             float64\n",
              "sqft_living15    float64\n",
              "sqft_lot15       float64\n",
              "dtype: object"
            ]
          },
          "metadata": {
            "tags": []
          },
          "execution_count": 8
        }
      ]
    },
    {
      "cell_type": "markdown",
      "metadata": {
        "id": "qaJP2A8x6w6i",
        "colab_type": "text"
      },
      "source": [
        "Cek kolom yang memiliki `null` value."
      ]
    },
    {
      "cell_type": "code",
      "metadata": {
        "id": "uwLxtJ_K1VXV",
        "colab_type": "code",
        "outputId": "3b3bcb66-f69f-474e-e2de-2c6d8105e148",
        "colab": {
          "base_uri": "https://localhost:8080/",
          "height": 391
        }
      },
      "source": [
        "df.isnull().any()"
      ],
      "execution_count": 9,
      "outputs": [
        {
          "output_type": "execute_result",
          "data": {
            "text/plain": [
              "id               False\n",
              "date             False\n",
              "price            False\n",
              "bedrooms         False\n",
              "bathrooms        False\n",
              "sqft_living      False\n",
              "sqft_lot         False\n",
              "floors           False\n",
              "waterfront       False\n",
              "view             False\n",
              "condition        False\n",
              "grade            False\n",
              "sqft_above       False\n",
              "sqft_basement    False\n",
              "yr_built         False\n",
              "yr_renovated     False\n",
              "zipcode          False\n",
              "lat              False\n",
              "long             False\n",
              "sqft_living15     True\n",
              "sqft_lot15        True\n",
              "dtype: bool"
            ]
          },
          "metadata": {
            "tags": []
          },
          "execution_count": 9
        }
      ]
    },
    {
      "cell_type": "markdown",
      "metadata": {
        "id": "mYe6fsDuGzah",
        "colab_type": "text"
      },
      "source": [
        "Berdasarkan informasi diatas didapatkan kolom `sqft_living15` dan `sqft_lot15` memiliki `null` value.\n",
        "\n",
        "Selanjutnya akan dilakukan drop baris dengan nilai `null` value tersebut.\n",
        "\n",
        "Dilakukan juga drop kolom yang tidak memiliki korelasi. Dalam konteks ini kolom yang digunakan adalah data yang berupa numeric."
      ]
    },
    {
      "cell_type": "code",
      "metadata": {
        "id": "vLXArnNzAmUZ",
        "colab_type": "code",
        "outputId": "019e199e-2904-4994-cca3-bc990d956f2e",
        "colab": {
          "base_uri": "https://localhost:8080/",
          "height": 419
        }
      },
      "source": [
        "# Drop row dengan nilai null\n",
        "df = df.dropna()\n",
        "\n",
        "# Drop juga kolom yang tidak memiliki korelasi \n",
        "df = df.drop(['id', 'date', 'zipcode', 'yr_built', 'yr_renovated', 'lat', 'long'], axis=1)\n",
        "df"
      ],
      "execution_count": 10,
      "outputs": [
        {
          "output_type": "execute_result",
          "data": {
            "text/html": [
              "<div>\n",
              "<style scoped>\n",
              "    .dataframe tbody tr th:only-of-type {\n",
              "        vertical-align: middle;\n",
              "    }\n",
              "\n",
              "    .dataframe tbody tr th {\n",
              "        vertical-align: top;\n",
              "    }\n",
              "\n",
              "    .dataframe thead th {\n",
              "        text-align: right;\n",
              "    }\n",
              "</style>\n",
              "<table border=\"1\" class=\"dataframe\">\n",
              "  <thead>\n",
              "    <tr style=\"text-align: right;\">\n",
              "      <th></th>\n",
              "      <th>price</th>\n",
              "      <th>bedrooms</th>\n",
              "      <th>bathrooms</th>\n",
              "      <th>sqft_living</th>\n",
              "      <th>sqft_lot</th>\n",
              "      <th>floors</th>\n",
              "      <th>waterfront</th>\n",
              "      <th>view</th>\n",
              "      <th>condition</th>\n",
              "      <th>grade</th>\n",
              "      <th>sqft_above</th>\n",
              "      <th>sqft_basement</th>\n",
              "      <th>sqft_living15</th>\n",
              "      <th>sqft_lot15</th>\n",
              "    </tr>\n",
              "  </thead>\n",
              "  <tbody>\n",
              "    <tr>\n",
              "      <th>0</th>\n",
              "      <td>221900.0</td>\n",
              "      <td>3</td>\n",
              "      <td>1.00</td>\n",
              "      <td>1180</td>\n",
              "      <td>5650</td>\n",
              "      <td>1.0</td>\n",
              "      <td>0</td>\n",
              "      <td>0</td>\n",
              "      <td>3</td>\n",
              "      <td>7</td>\n",
              "      <td>1180</td>\n",
              "      <td>0</td>\n",
              "      <td>1340.0</td>\n",
              "      <td>5650.0</td>\n",
              "    </tr>\n",
              "    <tr>\n",
              "      <th>1</th>\n",
              "      <td>538000.0</td>\n",
              "      <td>3</td>\n",
              "      <td>2.25</td>\n",
              "      <td>2570</td>\n",
              "      <td>7242</td>\n",
              "      <td>2.0</td>\n",
              "      <td>0</td>\n",
              "      <td>0</td>\n",
              "      <td>3</td>\n",
              "      <td>7</td>\n",
              "      <td>2170</td>\n",
              "      <td>400</td>\n",
              "      <td>1690.0</td>\n",
              "      <td>7639.0</td>\n",
              "    </tr>\n",
              "    <tr>\n",
              "      <th>2</th>\n",
              "      <td>180000.0</td>\n",
              "      <td>2</td>\n",
              "      <td>1.00</td>\n",
              "      <td>770</td>\n",
              "      <td>10000</td>\n",
              "      <td>1.0</td>\n",
              "      <td>0</td>\n",
              "      <td>0</td>\n",
              "      <td>3</td>\n",
              "      <td>6</td>\n",
              "      <td>770</td>\n",
              "      <td>0</td>\n",
              "      <td>2720.0</td>\n",
              "      <td>8062.0</td>\n",
              "    </tr>\n",
              "    <tr>\n",
              "      <th>3</th>\n",
              "      <td>604000.0</td>\n",
              "      <td>4</td>\n",
              "      <td>3.00</td>\n",
              "      <td>1960</td>\n",
              "      <td>5000</td>\n",
              "      <td>1.0</td>\n",
              "      <td>0</td>\n",
              "      <td>0</td>\n",
              "      <td>5</td>\n",
              "      <td>7</td>\n",
              "      <td>1050</td>\n",
              "      <td>910</td>\n",
              "      <td>1360.0</td>\n",
              "      <td>5000.0</td>\n",
              "    </tr>\n",
              "    <tr>\n",
              "      <th>4</th>\n",
              "      <td>510000.0</td>\n",
              "      <td>3</td>\n",
              "      <td>2.00</td>\n",
              "      <td>1680</td>\n",
              "      <td>8080</td>\n",
              "      <td>1.0</td>\n",
              "      <td>0</td>\n",
              "      <td>0</td>\n",
              "      <td>3</td>\n",
              "      <td>8</td>\n",
              "      <td>1680</td>\n",
              "      <td>0</td>\n",
              "      <td>1800.0</td>\n",
              "      <td>7503.0</td>\n",
              "    </tr>\n",
              "    <tr>\n",
              "      <th>...</th>\n",
              "      <td>...</td>\n",
              "      <td>...</td>\n",
              "      <td>...</td>\n",
              "      <td>...</td>\n",
              "      <td>...</td>\n",
              "      <td>...</td>\n",
              "      <td>...</td>\n",
              "      <td>...</td>\n",
              "      <td>...</td>\n",
              "      <td>...</td>\n",
              "      <td>...</td>\n",
              "      <td>...</td>\n",
              "      <td>...</td>\n",
              "      <td>...</td>\n",
              "    </tr>\n",
              "    <tr>\n",
              "      <th>3159</th>\n",
              "      <td>431000.0</td>\n",
              "      <td>3</td>\n",
              "      <td>1.75</td>\n",
              "      <td>1630</td>\n",
              "      <td>9000</td>\n",
              "      <td>1.0</td>\n",
              "      <td>0</td>\n",
              "      <td>0</td>\n",
              "      <td>4</td>\n",
              "      <td>7</td>\n",
              "      <td>1630</td>\n",
              "      <td>0</td>\n",
              "      <td>1600.0</td>\n",
              "      <td>11120.0</td>\n",
              "    </tr>\n",
              "    <tr>\n",
              "      <th>3160</th>\n",
              "      <td>485000.0</td>\n",
              "      <td>3</td>\n",
              "      <td>2.50</td>\n",
              "      <td>1840</td>\n",
              "      <td>8250</td>\n",
              "      <td>1.0</td>\n",
              "      <td>0</td>\n",
              "      <td>1</td>\n",
              "      <td>3</td>\n",
              "      <td>8</td>\n",
              "      <td>1340</td>\n",
              "      <td>500</td>\n",
              "      <td>1970.0</td>\n",
              "      <td>7920.0</td>\n",
              "    </tr>\n",
              "    <tr>\n",
              "      <th>3161</th>\n",
              "      <td>780000.0</td>\n",
              "      <td>3</td>\n",
              "      <td>1.50</td>\n",
              "      <td>1620</td>\n",
              "      <td>7500</td>\n",
              "      <td>1.0</td>\n",
              "      <td>0</td>\n",
              "      <td>2</td>\n",
              "      <td>4</td>\n",
              "      <td>8</td>\n",
              "      <td>1620</td>\n",
              "      <td>0</td>\n",
              "      <td>2440.0</td>\n",
              "      <td>7800.0</td>\n",
              "    </tr>\n",
              "    <tr>\n",
              "      <th>3162</th>\n",
              "      <td>720000.0</td>\n",
              "      <td>2</td>\n",
              "      <td>1.50</td>\n",
              "      <td>1840</td>\n",
              "      <td>9000</td>\n",
              "      <td>1.0</td>\n",
              "      <td>0</td>\n",
              "      <td>2</td>\n",
              "      <td>3</td>\n",
              "      <td>8</td>\n",
              "      <td>1340</td>\n",
              "      <td>500</td>\n",
              "      <td>1880.0</td>\n",
              "      <td>7560.0</td>\n",
              "    </tr>\n",
              "    <tr>\n",
              "      <th>3163</th>\n",
              "      <td>415000.0</td>\n",
              "      <td>3</td>\n",
              "      <td>1.00</td>\n",
              "      <td>1360</td>\n",
              "      <td>73616</td>\n",
              "      <td>1.0</td>\n",
              "      <td>0</td>\n",
              "      <td>0</td>\n",
              "      <td>3</td>\n",
              "      <td>7</td>\n",
              "      <td>1360</td>\n",
              "      <td>0</td>\n",
              "      <td>2040.0</td>\n",
              "      <td>50965.0</td>\n",
              "    </tr>\n",
              "  </tbody>\n",
              "</table>\n",
              "<p>3164 rows × 14 columns</p>\n",
              "</div>"
            ],
            "text/plain": [
              "         price  bedrooms  bathrooms  ...  sqft_basement  sqft_living15  sqft_lot15\n",
              "0     221900.0         3       1.00  ...              0         1340.0      5650.0\n",
              "1     538000.0         3       2.25  ...            400         1690.0      7639.0\n",
              "2     180000.0         2       1.00  ...              0         2720.0      8062.0\n",
              "3     604000.0         4       3.00  ...            910         1360.0      5000.0\n",
              "4     510000.0         3       2.00  ...              0         1800.0      7503.0\n",
              "...        ...       ...        ...  ...            ...            ...         ...\n",
              "3159  431000.0         3       1.75  ...              0         1600.0     11120.0\n",
              "3160  485000.0         3       2.50  ...            500         1970.0      7920.0\n",
              "3161  780000.0         3       1.50  ...              0         2440.0      7800.0\n",
              "3162  720000.0         2       1.50  ...            500         1880.0      7560.0\n",
              "3163  415000.0         3       1.00  ...              0         2040.0     50965.0\n",
              "\n",
              "[3164 rows x 14 columns]"
            ]
          },
          "metadata": {
            "tags": []
          },
          "execution_count": 10
        }
      ]
    },
    {
      "cell_type": "markdown",
      "metadata": {
        "id": "L89ARIsYVo4n",
        "colab_type": "text"
      },
      "source": [
        "# **Supervised Learning**\n",
        "---\n",
        "\n"
      ]
    },
    {
      "cell_type": "markdown",
      "metadata": {
        "id": "anXQ71uiu91S",
        "colab_type": "text"
      },
      "source": [
        "Untuk melakukan prediksi menggunakan supervised learning, kami menggunakan **Artificial Neural Network**, hal ini dikarenakan kita tidak tau keterkaitan antar fitur dengan hasil yaitu price."
      ]
    },
    {
      "cell_type": "code",
      "metadata": {
        "id": "kmCfbWI3snJZ",
        "colab_type": "code",
        "colab": {}
      },
      "source": [
        "import tensorflow as tf\n",
        "from tensorflow import keras\n",
        "from keras import Sequential\n",
        "from keras.layers import Dense"
      ],
      "execution_count": 0,
      "outputs": []
    },
    {
      "cell_type": "code",
      "metadata": {
        "id": "q2tRrKzKszpd",
        "colab_type": "code",
        "colab": {}
      },
      "source": [
        "model = Sequential()\n",
        "\n",
        "\"\"\"\n",
        "pembentukan model neural network\n",
        "\"\"\"\n",
        "model.add(Dense(50, activation='relu'))\n",
        "model.add(Dense(50, activation='relu')) # activa\n",
        "model.add(Dense(1))\n",
        "\n",
        "model.compile(loss='mean_squared_error', optimizer='adam')"
      ],
      "execution_count": 0,
      "outputs": []
    },
    {
      "cell_type": "code",
      "metadata": {
        "id": "MsvKxIsMtWrE",
        "colab_type": "code",
        "colab": {
          "base_uri": "https://localhost:8080/",
          "height": 1000
        },
        "outputId": "86e29e2e-e10b-4ed6-a9c5-0d84998d743c"
      },
      "source": [
        "X = df.drop(\"price\", axis=1).values\n",
        "Y = df[[\"price\"]].values\n",
        "\n",
        "history = model.fit(X, Y, validation_split=0.75, epochs=50, batch_size=16, verbose=1)\n",
        "\n",
        "print(history.history)\n",
        "plt.plot(history.history['val_loss'])\n",
        "plt.ylabel('Value Loss')\n",
        "plt.xlabel('Epoch')\n",
        "plt.show()"
      ],
      "execution_count": 35,
      "outputs": [
        {
          "output_type": "stream",
          "text": [
            "Train on 791 samples, validate on 2373 samples\n",
            "Epoch 1/50\n",
            "791/791 [==============================] - 0s 562us/step - loss: 388472746952.3337 - val_loss: 413856308526.4964\n",
            "Epoch 2/50\n",
            "791/791 [==============================] - 0s 232us/step - loss: 343746292781.3097 - val_loss: 368974376202.2487\n",
            "Epoch 3/50\n",
            "791/791 [==============================] - 0s 231us/step - loss: 292100674525.0468 - val_loss: 358761657460.9423\n",
            "Epoch 4/50\n",
            "791/791 [==============================] - 0s 251us/step - loss: 272974985068.4197 - val_loss: 344612352277.8997\n",
            "Epoch 5/50\n",
            "791/791 [==============================] - 0s 261us/step - loss: 255053490437.5019 - val_loss: 324464886685.1816\n",
            "Epoch 6/50\n",
            "791/791 [==============================] - 0s 244us/step - loss: 235891786142.2604 - val_loss: 297138306174.4357\n",
            "Epoch 7/50\n",
            "791/791 [==============================] - 0s 246us/step - loss: 214066820340.6726 - val_loss: 269674607470.5773\n",
            "Epoch 8/50\n",
            "791/791 [==============================] - 0s 250us/step - loss: 189167463697.1530 - val_loss: 236276973133.0266\n",
            "Epoch 9/50\n",
            "791/791 [==============================] - 0s 242us/step - loss: 160471134223.5348 - val_loss: 200540613483.9882\n",
            "Epoch 10/50\n",
            "791/791 [==============================] - 0s 250us/step - loss: 131844961208.7990 - val_loss: 166407317078.5200\n",
            "Epoch 11/50\n",
            "791/791 [==============================] - 0s 260us/step - loss: 106416001785.2035 - val_loss: 133227230421.6030\n",
            "Epoch 12/50\n",
            "791/791 [==============================] - 0s 256us/step - loss: 86434319747.0746 - val_loss: 111493521171.5263\n",
            "Epoch 13/50\n",
            "791/791 [==============================] - 0s 241us/step - loss: 74185625253.0569 - val_loss: 96857686463.0560\n",
            "Epoch 14/50\n",
            "791/791 [==============================] - 0s 239us/step - loss: 68641938870.8571 - val_loss: 89967388400.1416\n",
            "Epoch 15/50\n",
            "791/791 [==============================] - 0s 264us/step - loss: 66039057800.2528 - val_loss: 88322194063.0493\n",
            "Epoch 16/50\n",
            "791/791 [==============================] - 0s 250us/step - loss: 65267581269.7649 - val_loss: 85946718711.1538\n",
            "Epoch 17/50\n",
            "791/791 [==============================] - 0s 247us/step - loss: 65198400594.8521 - val_loss: 84094553576.9136\n",
            "Epoch 18/50\n",
            "791/791 [==============================] - 0s 240us/step - loss: 64879839120.6675 - val_loss: 82597448109.7952\n",
            "Epoch 19/50\n",
            "791/791 [==============================] - 0s 237us/step - loss: 64664485152.6877 - val_loss: 83404920099.2769\n",
            "Epoch 20/50\n",
            "791/791 [==============================] - 0s 247us/step - loss: 64199647723.9343 - val_loss: 85074446619.0780\n",
            "Epoch 21/50\n",
            "791/791 [==============================] - 0s 247us/step - loss: 64402646482.0430 - val_loss: 81991870733.2693\n",
            "Epoch 22/50\n",
            "791/791 [==============================] - 0s 255us/step - loss: 64237791617.7800 - val_loss: 82838418473.8576\n",
            "Epoch 23/50\n",
            "791/791 [==============================] - 0s 257us/step - loss: 64030229026.3059 - val_loss: 81495627002.7139\n",
            "Epoch 24/50\n",
            "791/791 [==============================] - 0s 233us/step - loss: 64117431486.3009 - val_loss: 81750971739.3746\n",
            "Epoch 25/50\n",
            "791/791 [==============================] - 0s 241us/step - loss: 64317617329.3552 - val_loss: 81462461334.2773\n",
            "Epoch 26/50\n",
            "791/791 [==============================] - 0s 266us/step - loss: 64529151197.3704 - val_loss: 81364678483.3915\n",
            "Epoch 27/50\n",
            "791/791 [==============================] - 0s 248us/step - loss: 63891657972.6726 - val_loss: 81119518294.5200\n",
            "Epoch 28/50\n",
            "791/791 [==============================] - 0s 288us/step - loss: 63563858629.4210 - val_loss: 80304465451.3679\n",
            "Epoch 29/50\n",
            "791/791 [==============================] - 0s 261us/step - loss: 63597276719.2516 - val_loss: 80352797575.6056\n",
            "Epoch 30/50\n",
            "791/791 [==============================] - 0s 273us/step - loss: 63617358157.9975 - val_loss: 80937972699.3207\n",
            "Epoch 31/50\n",
            "791/791 [==============================] - 0s 285us/step - loss: 63502095961.9722 - val_loss: 81666392711.2819\n",
            "Epoch 32/50\n",
            "791/791 [==============================] - 0s 255us/step - loss: 63496077942.4526 - val_loss: 81080648831.2988\n",
            "Epoch 33/50\n",
            "791/791 [==============================] - 0s 228us/step - loss: 63415474243.3173 - val_loss: 79756289382.5942\n",
            "Epoch 34/50\n",
            "791/791 [==============================] - 0s 221us/step - loss: 63181240674.7105 - val_loss: 80014740873.1159\n",
            "Epoch 35/50\n",
            "791/791 [==============================] - 0s 230us/step - loss: 63200806370.8723 - val_loss: 80446194076.5343\n",
            "Epoch 36/50\n",
            "791/791 [==============================] - 0s 230us/step - loss: 63199987673.1631 - val_loss: 79566917451.6241\n",
            "Epoch 37/50\n",
            "791/791 [==============================] - 0s 224us/step - loss: 63166452431.7775 - val_loss: 80584275051.4488\n",
            "Epoch 38/50\n",
            "791/791 [==============================] - 0s 229us/step - loss: 63511674626.2655 - val_loss: 79450668249.9182\n",
            "Epoch 39/50\n",
            "791/791 [==============================] - 0s 230us/step - loss: 62921941160.2933 - val_loss: 79396763879.2954\n",
            "Epoch 40/50\n",
            "791/791 [==============================] - 0s 220us/step - loss: 63237559343.8989 - val_loss: 79286578007.2752\n",
            "Epoch 41/50\n",
            "791/791 [==============================] - 0s 236us/step - loss: 63267873089.0518 - val_loss: 79502742228.9557\n",
            "Epoch 42/50\n",
            "791/791 [==============================] - 0s 225us/step - loss: 63008675428.3287 - val_loss: 79779880588.8917\n",
            "Epoch 43/50\n",
            "791/791 [==============================] - 0s 228us/step - loss: 63049201588.9153 - val_loss: 79277545593.6890\n",
            "Epoch 44/50\n",
            "791/791 [==============================] - 0s 226us/step - loss: 62820041532.5209 - val_loss: 79377226918.1357\n",
            "Epoch 45/50\n",
            "791/791 [==============================] - 0s 228us/step - loss: 62834684931.8837 - val_loss: 80265010488.8529\n",
            "Epoch 46/50\n",
            "791/791 [==============================] - 0s 236us/step - loss: 62730252515.8432 - val_loss: 79490770411.5028\n",
            "Epoch 47/50\n",
            "791/791 [==============================] - 0s 229us/step - loss: 62885249484.8647 - val_loss: 80434933961.9520\n",
            "Epoch 48/50\n",
            "791/791 [==============================] - 0s 217us/step - loss: 62814732787.7016 - val_loss: 79429975354.5790\n",
            "Epoch 49/50\n",
            "791/791 [==============================] - 0s 233us/step - loss: 62695490903.0594 - val_loss: 79283724188.7501\n",
            "Epoch 50/50\n",
            "791/791 [==============================] - 0s 211us/step - loss: 62758677136.3439 - val_loss: 79947737914.7948\n",
            "{'val_loss': [413856308526.4964, 368974376202.24866, 358761657460.94226, 344612352277.8997, 324464886685.18164, 297138306174.4357, 269674607470.57733, 236276973133.02655, 200540613483.9882, 166407317078.52002, 133227230421.60303, 111493521171.52634, 96857686463.05605, 89967388400.14159, 88322194063.0493, 85946718711.15381, 84094553576.9136, 82597448109.7952, 83404920099.27687, 85074446619.07796, 81991870733.26927, 82838418473.85756, 81495627002.71387, 81750971739.37463, 81462461334.27728, 81364678483.3915, 81119518294.52002, 80304465451.36789, 80352797575.60556, 80937972699.3207, 81666392711.28192, 81080648831.29878, 79756289382.59418, 80014740873.11589, 80446194076.53435, 79566917451.6241, 80584275051.44879, 79450668249.91824, 79396763879.29541, 79286578007.27518, 79502742228.95575, 79779880588.8917, 79277545593.689, 79377226918.1357, 80265010488.85294, 79490770411.50275, 80434933961.95197, 79429975354.57901, 79283724188.7501, 79947737914.79477], 'loss': [388472746952.33374, 343746292781.30975, 292100674525.04675, 272974985068.4197, 255053490437.5019, 235891786142.26044, 214066820340.67258, 189167463697.15298, 160471134223.53476, 131844961208.799, 106416001785.20354, 86434319747.07458, 74185625253.05688, 68641938870.85714, 66039057800.252846, 65267581269.764854, 65198400594.85209, 64879839120.66751, 64664485152.68774, 64199647723.93426, 64402646482.042984, 64237791617.78002, 64030229026.30594, 64117431486.30089, 64317617329.35525, 64529151197.370415, 63891657972.67257, 63563858629.42098, 63597276719.25158, 63617358157.997475, 63502095961.97219, 63496077942.45259, 63415474243.31732, 63181240674.710495, 63200806370.872314, 63199987673.163086, 63166452431.7775, 63511674626.26549, 62921941160.2933, 63237559343.898865, 63267873089.051834, 63008675428.3287, 63049201588.9153, 62820041532.52086, 62834684931.88369, 62730252515.84324, 62885249484.86473, 62814732787.701645, 62695490903.05942, 62758677136.34387]}\n"
          ],
          "name": "stdout"
        },
        {
          "output_type": "display_data",
          "data": {
            "image/png": "[encoded data removed]",
            "text/plain": [
              "<Figure size 432x288 with 1 Axes>"
            ]
          },
          "metadata": {
            "tags": []
          }
        }
      ]
    },
    {
      "cell_type": "code",
      "metadata": {
        "id": "mcPENxdetb8x",
        "colab_type": "code",
        "colab": {
          "base_uri": "https://localhost:8080/",
          "height": 369
        },
        "outputId": "01e3d582-a19b-4a4d-ddde-b9f9f25cd146"
      },
      "source": [
        "from keras.utils import plot_model\n",
        "plot_model(model, to_file='model.png')"
      ],
      "execution_count": 36,
      "outputs": [
        {
          "output_type": "execute_result",
          "data": {
            "image/png": "[encoded data removed]",
            "text/plain": [
              "<IPython.core.display.Image object>"
            ]
          },
          "metadata": {
            "tags": []
          },
          "execution_count": 36
        }
      ]
    },
    {
      "cell_type": "code",
      "metadata": {
        "id": "Zs_pQRiftcvd",
        "colab_type": "code",
        "colab": {
          "base_uri": "https://localhost:8080/",
          "height": 279
        },
        "outputId": "a51d2759-dcbe-4d57-921c-a7f4339e3abb"
      },
      "source": [
        "prediction = model.predict(X[:10])\n",
        "\n",
        "plt.plot(prediction)\n",
        "plt.plot(Y[:10])\n",
        "plt.ylabel('Value Loss')\n",
        "plt.xlabel('Epoch')\n",
        "plt.legend(['Prediction', 'Train'], loc='upper left')\n",
        "plt.show()"
      ],
      "execution_count": 40,
      "outputs": [
        {
          "output_type": "display_data",
          "data": {
            "image/png": "[encoded data removed]",
            "text/plain": [
              "<Figure size 432x288 with 1 Axes>"
            ]
          },
          "metadata": {
            "tags": []
          }
        }
      ]
    },
    {
      "cell_type": "markdown",
      "metadata": {
        "id": "ITP2O1V2x-nb",
        "colab_type": "text"
      },
      "source": [
        "perbandingan hasil prediksi dengan data training"
      ]
    },
    {
      "cell_type": "markdown",
      "metadata": {
        "id": "mie1d9mVLAKn",
        "colab_type": "text"
      },
      "source": [
        "# **Unsupervised Learning**\n",
        "---\n",
        "## K-Means Clustering\n",
        "\n",
        "Pada clustering digunakan algoritma **K-Means** \n",
        "\n"
      ]
    },
    {
      "cell_type": "markdown",
      "metadata": {
        "id": "8q2evPgXLIh1",
        "colab_type": "text"
      },
      "source": [
        "Pertama akan dilakukan visualisasi dari dataset yang diberikan. Data divisualisasikan dalam bentuk **Scatter Plot** dikarenakan untuk mengetahui persebaran datanya.\n",
        "\n",
        "Pada visualisasinya kontrol yang digunakan adalah `price` yang akan dibandingkan dengan kolom selainnya."
      ]
    },
    {
      "cell_type": "code",
      "metadata": {
        "id": "GHkFOn2jOW6T",
        "colab_type": "code",
        "outputId": "2224a3e6-0528-4f72-d316-348e3f0725fb",
        "colab": {
          "base_uri": "https://localhost:8080/",
          "height": 404
        }
      },
      "source": [
        "plt.figure(figsize=(6, 6))\n",
        "plt.scatter(df['price'], df['bedrooms'])\n",
        "plt.xlabel('price')\n",
        "plt.ylabel('bedrooms')\n",
        "plt.title('price vs bedrooms');"
      ],
      "execution_count": 16,
      "outputs": [
        {
          "output_type": "display_data",
          "data": {
            "image/png": "[encoded data removed]",
            "text/plain": [
              "<Figure size 432x432 with 1 Axes>"
            ]
          },
          "metadata": {
            "tags": []
          }
        }
      ]
    },
    {
      "cell_type": "code",
      "metadata": {
        "id": "BNOfMO-TOWtc",
        "colab_type": "code",
        "outputId": "b909f655-3945-4b0a-c31f-8712b46f1075",
        "colab": {
          "base_uri": "https://localhost:8080/",
          "height": 404
        }
      },
      "source": [
        "plt.figure(figsize=(6, 6))\n",
        "plt.scatter(df['price'], df['bathrooms'])\n",
        "plt.xlabel('price')\n",
        "plt.ylabel('bathrooms')\n",
        "plt.title('price vs bathrooms');"
      ],
      "execution_count": 17,
      "outputs": [
        {
          "output_type": "display_data",
          "data": {
            "image/png": "[encoded data removed]",
            "text/plain": [
              "<Figure size 432x432 with 1 Axes>"
            ]
          },
          "metadata": {
            "tags": []
          }
        }
      ]
    },
    {
      "cell_type": "code",
      "metadata": {
        "id": "WBJnFTzDOWei",
        "colab_type": "code",
        "outputId": "655f3d4e-55a0-4e54-d6d2-5367f0e9f1c5",
        "colab": {
          "base_uri": "https://localhost:8080/",
          "height": 404
        }
      },
      "source": [
        "plt.figure(figsize=(6, 6))\n",
        "plt.scatter(df['price'], df['sqft_living'])\n",
        "plt.xlabel('price')\n",
        "plt.ylabel('sqft_living')\n",
        "plt.title('price vs sqft_living');"
      ],
      "execution_count": 18,
      "outputs": [
        {
          "output_type": "display_data",
          "data": {
            "image/png": "[encoded data removed]",
            "text/plain": [
              "<Figure size 432x432 with 1 Axes>"
            ]
          },
          "metadata": {
            "tags": []
          }
        }
      ]
    },
    {
      "cell_type": "code",
      "metadata": {
        "id": "-5GRYDD2OWRc",
        "colab_type": "code",
        "outputId": "f81d2593-8cac-409f-a6ea-afece45ff81b",
        "colab": {
          "base_uri": "https://localhost:8080/",
          "height": 404
        }
      },
      "source": [
        "plt.figure(figsize=(6, 6))\n",
        "plt.scatter(df['price'], df['sqft_lot'])\n",
        "plt.xlabel('price')\n",
        "plt.ylabel('sqft_lot')\n",
        "plt.title('price vs sqft_lot');"
      ],
      "execution_count": 19,
      "outputs": [
        {
          "output_type": "display_data",
          "data": {
            "image/png": "[encoded data removed]",
            "text/plain": [
              "<Figure size 432x432 with 1 Axes>"
            ]
          },
          "metadata": {
            "tags": []
          }
        }
      ]
    },
    {
      "cell_type": "code",
      "metadata": {
        "id": "4YKcgRAKOWDi",
        "colab_type": "code",
        "outputId": "8f9afa46-2f39-4723-e473-454e37b86ccd",
        "colab": {
          "base_uri": "https://localhost:8080/",
          "height": 404
        }
      },
      "source": [
        "plt.figure(figsize=(6, 6))\n",
        "plt.scatter(df['price'], df['floors'])\n",
        "plt.xlabel('price')\n",
        "plt.ylabel('floors')\n",
        "plt.title('price vs floors');"
      ],
      "execution_count": 20,
      "outputs": [
        {
          "output_type": "display_data",
          "data": {
            "image/png": "[encoded data removed]",
            "text/plain": [
              "<Figure size 432x432 with 1 Axes>"
            ]
          },
          "metadata": {
            "tags": []
          }
        }
      ]
    },
    {
      "cell_type": "code",
      "metadata": {
        "id": "lfoUoRYWPz_w",
        "colab_type": "code",
        "outputId": "773d3c90-eb88-459a-9659-575383d6f9fc",
        "colab": {
          "base_uri": "https://localhost:8080/",
          "height": 404
        }
      },
      "source": [
        "plt.figure(figsize=(6, 6))\n",
        "plt.scatter(df['price'], df['waterfront'])\n",
        "plt.xlabel('price')\n",
        "plt.ylabel('waterfront')\n",
        "plt.title('price vs waterfront');"
      ],
      "execution_count": 21,
      "outputs": [
        {
          "output_type": "display_data",
          "data": {
            "image/png": "[encoded data removed]",
            "text/plain": [
              "<Figure size 432x432 with 1 Axes>"
            ]
          },
          "metadata": {
            "tags": []
          }
        }
      ]
    },
    {
      "cell_type": "code",
      "metadata": {
        "id": "_HTSyjnrOV1Q",
        "colab_type": "code",
        "outputId": "9a16fdc1-9981-43e6-f9a2-853387daa379",
        "colab": {
          "base_uri": "https://localhost:8080/",
          "height": 404
        }
      },
      "source": [
        "plt.figure(figsize=(6, 6))\n",
        "plt.scatter(df['price'], df['view'])\n",
        "plt.xlabel('price')\n",
        "plt.ylabel('waterfront')\n",
        "plt.title('price vs view');"
      ],
      "execution_count": 22,
      "outputs": [
        {
          "output_type": "display_data",
          "data": {
            "image/png": "[encoded data removed]",
            "text/plain": [
              "<Figure size 432x432 with 1 Axes>"
            ]
          },
          "metadata": {
            "tags": []
          }
        }
      ]
    },
    {
      "cell_type": "code",
      "metadata": {
        "id": "IsVh4-xFOVnK",
        "colab_type": "code",
        "outputId": "1e0ff5f2-f4af-429b-e153-f891b40ba556",
        "colab": {
          "base_uri": "https://localhost:8080/",
          "height": 404
        }
      },
      "source": [
        "plt.figure(figsize=(6, 6))\n",
        "plt.scatter(df['price'], df['condition'])\n",
        "plt.xlabel('price')\n",
        "plt.ylabel('condition')\n",
        "plt.title('price vs condition');"
      ],
      "execution_count": 23,
      "outputs": [
        {
          "output_type": "display_data",
          "data": {
            "image/png": "[encoded data removed]",
            "text/plain": [
              "<Figure size 432x432 with 1 Axes>"
            ]
          },
          "metadata": {
            "tags": []
          }
        }
      ]
    },
    {
      "cell_type": "code",
      "metadata": {
        "id": "5RCy5xEJOVXi",
        "colab_type": "code",
        "outputId": "eb49065a-abf2-45eb-978c-10b4182847dd",
        "colab": {
          "base_uri": "https://localhost:8080/",
          "height": 404
        }
      },
      "source": [
        "plt.figure(figsize=(6, 6))\n",
        "plt.scatter(df['price'], df['grade'])\n",
        "plt.xlabel('price')\n",
        "plt.ylabel('grade')\n",
        "plt.title('price vs grade');"
      ],
      "execution_count": 24,
      "outputs": [
        {
          "output_type": "display_data",
          "data": {
            "image/png": "[encoded data removed]",
            "text/plain": [
              "<Figure size 432x432 with 1 Axes>"
            ]
          },
          "metadata": {
            "tags": []
          }
        }
      ]
    },
    {
      "cell_type": "code",
      "metadata": {
        "id": "ZNkw8KYWOVJa",
        "colab_type": "code",
        "outputId": "e95512b4-5497-459a-d3c5-1124dec49639",
        "colab": {
          "base_uri": "https://localhost:8080/",
          "height": 404
        }
      },
      "source": [
        "plt.figure(figsize=(6, 6))\n",
        "plt.scatter(df['price'], df['sqft_above'])\n",
        "plt.xlabel('price')\n",
        "plt.ylabel('sqft_above')\n",
        "plt.title('price vs sqft_above');"
      ],
      "execution_count": 25,
      "outputs": [
        {
          "output_type": "display_data",
          "data": {
            "image/png": "[encoded data removed]",
            "text/plain": [
              "<Figure size 432x432 with 1 Axes>"
            ]
          },
          "metadata": {
            "tags": []
          }
        }
      ]
    },
    {
      "cell_type": "code",
      "metadata": {
        "id": "6p5fOT8jOU2m",
        "colab_type": "code",
        "outputId": "37f1116e-b2f0-4d4e-ff9d-ec9006684c6b",
        "colab": {
          "base_uri": "https://localhost:8080/",
          "height": 404
        }
      },
      "source": [
        "plt.figure(figsize=(6, 6))\n",
        "plt.scatter(df['price'], df['sqft_basement'])\n",
        "plt.xlabel('price')\n",
        "plt.ylabel('sqft_basement')\n",
        "plt.title('price vs sqft_basement');"
      ],
      "execution_count": 26,
      "outputs": [
        {
          "output_type": "display_data",
          "data": {
            "image/png": "[encoded data removed]",
            "text/plain": [
              "<Figure size 432x432 with 1 Axes>"
            ]
          },
          "metadata": {
            "tags": []
          }
        }
      ]
    },
    {
      "cell_type": "code",
      "metadata": {
        "id": "T0i9xx9GOUiI",
        "colab_type": "code",
        "outputId": "a9ce59a0-2996-42b9-8559-39af07abcde8",
        "colab": {
          "base_uri": "https://localhost:8080/",
          "height": 404
        }
      },
      "source": [
        "plt.figure(figsize=(6, 6))\n",
        "plt.scatter(df['price'], df['sqft_living15'])\n",
        "plt.xlabel('price')\n",
        "plt.ylabel('sqft_living15')\n",
        "plt.title('price vs sqft_living15');"
      ],
      "execution_count": 27,
      "outputs": [
        {
          "output_type": "display_data",
          "data": {
            "image/png": "[encoded data removed]",
            "text/plain": [
              "<Figure size 432x432 with 1 Axes>"
            ]
          },
          "metadata": {
            "tags": []
          }
        }
      ]
    },
    {
      "cell_type": "code",
      "metadata": {
        "id": "fJ40HfQWOUC-",
        "colab_type": "code",
        "outputId": "96c69d80-ff7f-4b96-d634-faf1080ecd79",
        "colab": {
          "base_uri": "https://localhost:8080/",
          "height": 404
        }
      },
      "source": [
        "plt.figure(figsize=(6, 6))\n",
        "plt.scatter(df['price'], df['sqft_lot15'])\n",
        "plt.xlabel('price')\n",
        "plt.ylabel('sqft_lot15')\n",
        "plt.title('price vs sqft_lot15');"
      ],
      "execution_count": 28,
      "outputs": [
        {
          "output_type": "display_data",
          "data": {
            "image/png": "[encoded data removed]",
            "text/plain": [
              "<Figure size 432x432 with 1 Axes>"
            ]
          },
          "metadata": {
            "tags": []
          }
        }
      ]
    },
    {
      "cell_type": "code",
      "metadata": {
        "id": "YHa5XjKhuW5H",
        "colab_type": "code",
        "colab": {}
      },
      "source": [
        "from numpy.linalg import norm\n",
        "\n",
        "class Kmeans:\n",
        "    def __init__(self, n_clusters, max_iter=100, random_state=123):\n",
        "      \"\"\"\n",
        "      Inisialisasi model dengan n_clusters, max_iter, random_state\n",
        "      \n",
        "      Parameter\n",
        "      n_clusters = jumlah k cluster\n",
        "      max_iter = maksimum iterasi dari model\n",
        "      random_state = random state  \n",
        "      \"\"\"\n",
        "      self.n_clusters = n_clusters\n",
        "      self.max_iter = max_iter\n",
        "      self.random_state = random_state\n",
        "\n",
        "    def initializ_centroids(self, X):\n",
        "      \"\"\"\n",
        "      Inisialisasi centroids dengan sebanyak random k titik\n",
        "\n",
        "      Parameter\n",
        "      X = data\n",
        "      \"\"\"\n",
        "      np.random.RandomState(self.random_state)\n",
        "      random_idx = np.random.permutation(X.shape[0])\n",
        "      centroids = X[random_idx[:self.n_clusters]]\n",
        "      return centroids\n",
        "\n",
        "    def compute_centroids(self, X, labels):\n",
        "      \"\"\"\n",
        "      Hitung centroid baru berdasarkan data\n",
        "\n",
        "      Parameter\n",
        "      X = data\n",
        "      \"\"\"\n",
        "      centroids = np.zeros((self.n_clusters, X.shape[1]))\n",
        "      for k in range(self.n_clusters):\n",
        "        centroids[k, :] = np.mean(X[labels == k, :], axis=0)\n",
        "      return centroids\n",
        "\n",
        "    def compute_distance(self, X, centroids):\n",
        "      \"\"\"\n",
        "      Menghitung jarak dari data ke centroid\n",
        "\n",
        "      Parameter\n",
        "      X = data\n",
        "      labels = data-data terdekat dengan centroid\n",
        "      centroids = centroid sebanyak k cluster\n",
        "      \"\"\"\n",
        "      distance = np.zeros((X.shape[0], self.n_clusters))\n",
        "      for k in range(self.n_clusters):\n",
        "          row_norm = norm(X - centroids[k, :], axis=1)\n",
        "          distance[:, k] = np.square(row_norm)\n",
        "      return distance\n",
        "\n",
        "    def find_closest_cluster(self, distance):\n",
        "      \"\"\"\n",
        "      Mencari cluster terdekat dari data\n",
        "\n",
        "      Parameter\n",
        "      distance = Jarak data ke centroids\n",
        "      \"\"\"\n",
        "      return np.argmin(distance, axis=1)\n",
        "        \n",
        "    def compute_sse(self, X, labels, centroids):\n",
        "      \"\"\"\n",
        "      SSE = Sum Squared of Error\n",
        "      Menghitung jumlah dari perbedaan kuadrat antara setiap observasi dan rata-rata group.\n",
        "\n",
        "      Parameter\n",
        "      X = data\n",
        "      centroids = centroid sebanyak k cluster\n",
        "      \"\"\"\n",
        "      distance = np.zeros(X.shape[0])\n",
        "      for k in range(self.n_clusters):\n",
        "        distance[labels == k] = norm(X[labels == k] - centroids[k], axis=1)\n",
        "      return np.sum(np.square(distance))\n",
        "\n",
        "    def fit(self, X):\n",
        "      \"\"\"\n",
        "      Proses clustering kmeans\n",
        "\n",
        "      Parameter\n",
        "      X = data\n",
        "      \"\"\"\n",
        "      self.centroids = self.initializ_centroids(X)\n",
        "      #print('Initialize centroids: \\n', self.centroids, '\\n')\n",
        "      for i in range(self.max_iter):\n",
        "        old_centroids = self.centroids\n",
        "        distance = self.compute_distance(X, old_centroids)\n",
        "        self.labels = self.find_closest_cluster(distance)\n",
        "        self.centroids = self.compute_centroids(X, self.labels)\n",
        "        #print('Iteration',i,'Centroids: \\n', self.centroids, '\\n')\n",
        "        if np.all(old_centroids == self.centroids):\n",
        "            break\n",
        "        self.error = self.compute_sse(X, self.labels, self.centroids)"
      ],
      "execution_count": 0,
      "outputs": []
    },
    {
      "cell_type": "markdown",
      "metadata": {
        "id": "pEbhxqWSTzC_",
        "colab_type": "text"
      },
      "source": [
        "Pertama lakukan standarisasi data"
      ]
    },
    {
      "cell_type": "code",
      "metadata": {
        "id": "neQGRMTab7p8",
        "colab_type": "code",
        "colab": {}
      },
      "source": [
        "X_std = StandardScaler().fit_transform(df)"
      ],
      "execution_count": 0,
      "outputs": []
    },
    {
      "cell_type": "markdown",
      "metadata": {
        "id": "2mW2JNs7QcMn",
        "colab_type": "text"
      },
      "source": [
        "Lakukan test untuk cluster **k = 2**"
      ]
    },
    {
      "cell_type": "code",
      "metadata": {
        "id": "qr2-GQJIu9Wq",
        "colab_type": "code",
        "colab": {}
      },
      "source": [
        "# Inisiasi Model Kmeans dengan k = 2 dan maximum iterasi adalah 100\n",
        "km = Kmeans(n_clusters=2, max_iter=100)\n",
        "km.fit(X_std)\n",
        "centroids = km.centroids"
      ],
      "execution_count": 0,
      "outputs": []
    },
    {
      "cell_type": "markdown",
      "metadata": {
        "id": "sQsKxnNUkjUA",
        "colab_type": "text"
      },
      "source": [
        "Lakukan visualisasi clustering dari K-Means dengan K = 2"
      ]
    },
    {
      "cell_type": "code",
      "metadata": {
        "id": "ljHTeM1ncfwa",
        "colab_type": "code",
        "outputId": "120af236-dd6e-410d-b7d7-341afdd0b620",
        "colab": {
          "base_uri": "https://localhost:8080/",
          "height": 426
        }
      },
      "source": [
        "# Plotting\n",
        "fig, ax = plt.subplots(figsize=(10, 10))\n",
        "plt.scatter(X_std[km.labels == 0, 0], X_std[km.labels == 0, 1],\n",
        "            c='red', label='cluster 1')\n",
        "plt.scatter(X_std[km.labels == 1, 0], X_std[km.labels == 1, 1],\n",
        "            c='blue', label='cluster 2')\n",
        "plt.scatter(centroids[:, 0], centroids[:, 1], marker='*', s=300,\n",
        "            c='green', label='centroid')\n",
        "plt.legend()\n",
        "plt.title('KC House Data')\n",
        "ax.set_aspect('equal');"
      ],
      "execution_count": 32,
      "outputs": [
        {
          "output_type": "display_data",
          "data": {
            "image/png": "[encoded data removed]",
            "text/plain": [
              "<Figure size 720x720 with 1 Axes>"
            ]
          },
          "metadata": {
            "tags": []
          }
        }
      ]
    },
    {
      "cell_type": "markdown",
      "metadata": {
        "id": "JMw800kTpHem",
        "colab_type": "text"
      },
      "source": [
        "Didapatkan centroid hasil akhirnya adalah\n",
        "\n",
        "**centroid 1** \n",
        "\n",
        "[-0.36221173 -0.30951933 -0.41697832 -0.49617681 -0.09246795 -0.3369523\n",
        "  -0.07117872 -0.1849084   0.06348247 -0.48136069 -0.50068431 -0.10475853\n",
        "  -0.48340318 -0.12134315]\n",
        "\n",
        "**centroid 2**\n",
        "\n",
        " [ 0.77135693  0.65914453  0.88798648  1.05664556  0.19691741  0.71756509\n",
        "   0.15158039  0.39377625 -0.13519066  1.02509354  1.06624463  0.22309112\n",
        "   1.02944317  0.25840931]\n",
        "\n",
        "Lalu didapatkan **cluster 1** digambarkan berwarna **merah** dan **cluster 2** digambarkan berwarna **biru**"
      ]
    },
    {
      "cell_type": "markdown",
      "metadata": {
        "id": "Sca5I13vpvjZ",
        "colab_type": "text"
      },
      "source": [
        "Lakukan pengujian dengan membandingkan K dengan Sum Square of Error"
      ]
    },
    {
      "cell_type": "code",
      "metadata": {
        "id": "0XamLgH4eLl-",
        "colab_type": "code",
        "outputId": "70eb1e8d-6f86-43fc-af57-de3c844d62c8",
        "colab": {
          "base_uri": "https://localhost:8080/",
          "height": 621
        }
      },
      "source": [
        "# Jalankan kmeans dengan k dari 1..10\n",
        "sse = []\n",
        "list_k = list(range(1, 10))\n",
        "\n",
        "for k in list_k:\n",
        "    km = Kmeans(n_clusters=k)\n",
        "    km.fit(X_std)\n",
        "    sse.append(km.error)\n",
        "\n",
        "# Plot sse vs k\n",
        "plt.figure(figsize=(10, 10))\n",
        "plt.plot(list_k, sse, '-o')\n",
        "plt.title('k vs sse')\n",
        "plt.xlabel('k')\n",
        "plt.ylabel('sum of squared distance');"
      ],
      "execution_count": 33,
      "outputs": [
        {
          "output_type": "display_data",
          "data": {
            "image/png": "[encoded data removed]",
            "text/plain": [
              "<Figure size 720x720 with 1 Axes>"
            ]
          },
          "metadata": {
            "tags": []
          }
        }
      ]
    },
    {
      "cell_type": "markdown",
      "metadata": {
        "id": "zE3T3jj9l9CX",
        "colab_type": "text"
      },
      "source": [
        "Berdasarkan SSE dengan menggunakan K = 2 kita mendapatkan hasil yang tidak terlalu buruk"
      ]
    }
  ]
}